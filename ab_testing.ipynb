{
  "cells": [
    {
      "attachments": {},
      "cell_type": "markdown",
      "metadata": {},
      "source": [
        "In this Jupyter Notebook, we will perform A/B Testing on user data categorized into Control and Variant groups.\n",
        "\n",
        "Before delving into that, we'll conduct an Exploratory Data Analysis (EDA) and perform Feature Engineering to prepare the data appropriately."
      ]
    },
    {
      "attachments": {},
      "cell_type": "markdown",
      "metadata": {},
      "source": [
        "**Sections**:\n",
        "\n",
        "\n",
        "\n",
        "- [LIBRARIES](#LIBRARIES)\n",
        "- [EDA AND DATA CLEANING](#EDA-AND-DATA-CLEANING)\n",
        "    - [Removing users](#REMOVING-USERS)\n",
        "    - [Removing outliers](#REMOVING-OUTLIERS)\n",
        "- [FEATURE ENGINEERING](#FEATURE-ENGINEERING)\n",
        "- [A/B TESTING](#A/B-TESTING)\n",
        "    - [A/B Testing on Revenue (difference in means)](#A/B-TESTING-REVENUE)\n",
        "        - [Permutation test](#PERMUTATION-REVENUE)\n",
        "        - [T-test](#T-TEST)\n",
        "        - [Mann-Whitney U rank test](#MANN-WHITNEY-TEST)\n",
        "    - [A/B Testing on Sales (Propotions)](#A/B-TESTING-SALES)\n",
        "        - [Permutation test](#PERMUTATION-SALES)\n",
        "        - [Z-test](#Z-TEST)\n",
        "        - [Test of independence](#TEST-INDEPENDENCE)\n",
        "            - [Chi-Square](#CHI-SQUARE)\n",
        "            - [Fisher's Exact Test](#FISHER-EXACT-TEST)\n",
        "    - [Conclusions](#CONCLUSIONS)"
      ]
    },
    {
      "attachments": {},
      "cell_type": "markdown",
      "metadata": {},
      "source": [
        "<a name=\"LIBRARIES\"></a>\n",
        "# LIBRARIES"
      ]
    },
    {
      "cell_type": "code",
      "execution_count": 381,
      "metadata": {
        "id": "TrfTq0EWS9wP"
      },
      "outputs": [],
      "source": [
        "import numpy as np\n",
        "import pandas as pd\n",
        "import matplotlib.pyplot as plt\n",
        "import seaborn as sns\n",
        "import random\n",
        "from scipy import stats\n",
        "from statsmodels.stats.proportion import proportions_ztest"
      ]
    },
    {
      "attachments": {},
      "cell_type": "markdown",
      "metadata": {},
      "source": [
        "<a name=\"EDA-AND-DATA-CLEANING\"></a>\n",
        "# EDA AND DATA CLEANING"
      ]
    },
    {
      "attachments": {},
      "cell_type": "markdown",
      "metadata": {},
      "source": [
        "In this section we are going to analyze the data and discover if there are duplicate values and outliers."
      ]
    },
    {
      "cell_type": "code",
      "execution_count": 382,
      "metadata": {
        "colab": {
          "base_uri": "https://localhost:8080/",
          "height": 206
        },
        "id": "ezc1dDLmc2_c",
        "outputId": "b58ef12d-1e10-4ee0-bef6-b9f5de902fc7"
      },
      "outputs": [
        {
          "data": {
            "text/html": [
              "<div>\n",
              "<style scoped>\n",
              "    .dataframe tbody tr th:only-of-type {\n",
              "        vertical-align: middle;\n",
              "    }\n",
              "\n",
              "    .dataframe tbody tr th {\n",
              "        vertical-align: top;\n",
              "    }\n",
              "\n",
              "    .dataframe thead th {\n",
              "        text-align: right;\n",
              "    }\n",
              "</style>\n",
              "<table border=\"1\" class=\"dataframe\">\n",
              "  <thead>\n",
              "    <tr style=\"text-align: right;\">\n",
              "      <th></th>\n",
              "      <th>USER_ID</th>\n",
              "      <th>VARIANT_NAME</th>\n",
              "      <th>REVENUE</th>\n",
              "    </tr>\n",
              "  </thead>\n",
              "  <tbody>\n",
              "    <tr>\n",
              "      <th>0</th>\n",
              "      <td>737</td>\n",
              "      <td>variant</td>\n",
              "      <td>0.0</td>\n",
              "    </tr>\n",
              "    <tr>\n",
              "      <th>1</th>\n",
              "      <td>2423</td>\n",
              "      <td>control</td>\n",
              "      <td>0.0</td>\n",
              "    </tr>\n",
              "    <tr>\n",
              "      <th>2</th>\n",
              "      <td>9411</td>\n",
              "      <td>control</td>\n",
              "      <td>0.0</td>\n",
              "    </tr>\n",
              "    <tr>\n",
              "      <th>3</th>\n",
              "      <td>7311</td>\n",
              "      <td>control</td>\n",
              "      <td>0.0</td>\n",
              "    </tr>\n",
              "    <tr>\n",
              "      <th>4</th>\n",
              "      <td>6174</td>\n",
              "      <td>variant</td>\n",
              "      <td>0.0</td>\n",
              "    </tr>\n",
              "  </tbody>\n",
              "</table>\n",
              "</div>"
            ],
            "text/plain": [
              "   USER_ID VARIANT_NAME  REVENUE\n",
              "0      737      variant      0.0\n",
              "1     2423      control      0.0\n",
              "2     9411      control      0.0\n",
              "3     7311      control      0.0\n",
              "4     6174      variant      0.0"
            ]
          },
          "execution_count": 382,
          "metadata": {},
          "output_type": "execute_result"
        }
      ],
      "source": [
        "df = pd.read_csv('AB_Test_Results.csv')\n",
        "df.head()"
      ]
    },
    {
      "cell_type": "code",
      "execution_count": 383,
      "metadata": {
        "colab": {
          "base_uri": "https://localhost:8080/"
        },
        "id": "IuzoDpE-c9VD",
        "outputId": "77d26f99-f801-4b52-ddcc-4a4cb9454924"
      },
      "outputs": [
        {
          "name": "stdout",
          "output_type": "stream",
          "text": [
            "<class 'pandas.core.frame.DataFrame'>\n",
            "RangeIndex: 10000 entries, 0 to 9999\n",
            "Data columns (total 3 columns):\n",
            " #   Column        Non-Null Count  Dtype  \n",
            "---  ------        --------------  -----  \n",
            " 0   USER_ID       10000 non-null  int64  \n",
            " 1   VARIANT_NAME  10000 non-null  object \n",
            " 2   REVENUE       10000 non-null  float64\n",
            "dtypes: float64(1), int64(1), object(1)\n",
            "memory usage: 234.5+ KB\n"
          ]
        }
      ],
      "source": [
        "df.info()"
      ]
    },
    {
      "cell_type": "code",
      "execution_count": 384,
      "metadata": {
        "colab": {
          "base_uri": "https://localhost:8080/",
          "height": 112
        },
        "id": "Hj5eKhDgc-Vi",
        "outputId": "ce5ae7b5-2a77-4446-cd26-3da1de5833a2"
      },
      "outputs": [
        {
          "data": {
            "text/html": [
              "<div>\n",
              "<style scoped>\n",
              "    .dataframe tbody tr th:only-of-type {\n",
              "        vertical-align: middle;\n",
              "    }\n",
              "\n",
              "    .dataframe tbody tr th {\n",
              "        vertical-align: top;\n",
              "    }\n",
              "\n",
              "    .dataframe thead th {\n",
              "        text-align: right;\n",
              "    }\n",
              "</style>\n",
              "<table border=\"1\" class=\"dataframe\">\n",
              "  <thead>\n",
              "    <tr style=\"text-align: right;\">\n",
              "      <th></th>\n",
              "      <th>count</th>\n",
              "      <th>mean</th>\n",
              "      <th>std</th>\n",
              "      <th>min</th>\n",
              "      <th>25%</th>\n",
              "      <th>50%</th>\n",
              "      <th>75%</th>\n",
              "      <th>max</th>\n",
              "    </tr>\n",
              "  </thead>\n",
              "  <tbody>\n",
              "    <tr>\n",
              "      <th>USER_ID</th>\n",
              "      <td>10000.0</td>\n",
              "      <td>4981.080200</td>\n",
              "      <td>2890.590115</td>\n",
              "      <td>2.0</td>\n",
              "      <td>2468.75</td>\n",
              "      <td>4962.0</td>\n",
              "      <td>7511.5</td>\n",
              "      <td>10000.00</td>\n",
              "    </tr>\n",
              "    <tr>\n",
              "      <th>REVENUE</th>\n",
              "      <td>10000.0</td>\n",
              "      <td>0.099447</td>\n",
              "      <td>2.318529</td>\n",
              "      <td>0.0</td>\n",
              "      <td>0.00</td>\n",
              "      <td>0.0</td>\n",
              "      <td>0.0</td>\n",
              "      <td>196.01</td>\n",
              "    </tr>\n",
              "  </tbody>\n",
              "</table>\n",
              "</div>"
            ],
            "text/plain": [
              "           count         mean          std  min      25%     50%     75%   \n",
              "USER_ID  10000.0  4981.080200  2890.590115  2.0  2468.75  4962.0  7511.5  \\\n",
              "REVENUE  10000.0     0.099447     2.318529  0.0     0.00     0.0     0.0   \n",
              "\n",
              "              max  \n",
              "USER_ID  10000.00  \n",
              "REVENUE    196.01  "
            ]
          },
          "execution_count": 384,
          "metadata": {},
          "output_type": "execute_result"
        }
      ],
      "source": [
        "df.describe().T"
      ]
    },
    {
      "cell_type": "code",
      "execution_count": 385,
      "metadata": {
        "colab": {
          "base_uri": "https://localhost:8080/"
        },
        "id": "6z9ucldBdAXy",
        "outputId": "f013ac8d-b151-445f-f7b1-9d4489d9d5fd"
      },
      "outputs": [
        {
          "data": {
            "text/plain": [
              "VARIANT_NAME\n",
              "variant    5016\n",
              "control    4984\n",
              "Name: count, dtype: int64"
            ]
          },
          "execution_count": 385,
          "metadata": {},
          "output_type": "execute_result"
        }
      ],
      "source": [
        "df['VARIANT_NAME'].value_counts()"
      ]
    },
    {
      "cell_type": "code",
      "execution_count": 386,
      "metadata": {
        "colab": {
          "base_uri": "https://localhost:8080/",
          "height": 466
        },
        "id": "QTIoIrQlf3JW",
        "outputId": "a007c795-521c-4c03-fdb5-1e0e0bdec3fe"
      },
      "outputs": [
        {
          "data": {
            "text/plain": [
              "<Axes: xlabel='VARIANT_NAME', ylabel='REVENUE'>"
            ]
          },
          "execution_count": 386,
          "metadata": {},
          "output_type": "execute_result"
        },
        {
          "data": {
            "image/png": "[encoded data removed]",
            "text/plain": [
              "<Figure size 640x480 with 1 Axes>"
            ]
          },
          "metadata": {},
          "output_type": "display_data"
        }
      ],
      "source": [
        "sns.boxenplot(\n",
        "  df[['VARIANT_NAME', 'REVENUE']], \n",
        "  x = \"VARIANT_NAME\",\n",
        "  y = 'REVENUE',\n",
        "  hue=\"VARIANT_NAME\", \n",
        "  palette='rocket'\n",
        ")"
      ]
    },
    {
      "cell_type": "code",
      "execution_count": 387,
      "metadata": {},
      "outputs": [
        {
          "data": {
            "text/plain": [
              "USER_ID\n",
              "4967    2\n",
              "4615    2\n",
              "4586    2\n",
              "4593    2\n",
              "4595    2\n",
              "       ..\n",
              "1278    1\n",
              "4678    1\n",
              "4677    1\n",
              "4670    1\n",
              "2       1\n",
              "Name: VARIANT_NAME, Length: 6324, dtype: int64"
            ]
          },
          "execution_count": 387,
          "metadata": {},
          "output_type": "execute_result"
        }
      ],
      "source": [
        "df.groupby(\"USER_ID\")[\"VARIANT_NAME\"].nunique().sort_values(ascending=False)"
      ]
    },
    {
      "attachments": {},
      "cell_type": "markdown",
      "metadata": {},
      "source": [
        "- We have users that belong to both the Variant and Control groups.\n",
        "- We have outliers."
      ]
    },
    {
      "attachments": {},
      "cell_type": "markdown",
      "metadata": {
        "id": "Sse5YGoTgDtQ"
      },
      "source": [
        "<a name=\"REMOVING-USERS\"></a>\n",
        "## Removing users"
      ]
    },
    {
      "attachments": {},
      "cell_type": "markdown",
      "metadata": {
        "id": "7VKVdr8jlzHJ"
      },
      "source": [
        "We remove the users that are both Variant and Control."
      ]
    },
    {
      "cell_type": "code",
      "execution_count": 388,
      "metadata": {
        "id": "w5XrcxoQi5C3"
      },
      "outputs": [],
      "source": [
        "rows_to_keep = (df.groupby(\"USER_ID\")[\"VARIANT_NAME\"].nunique() == 1)\n",
        "rows_to_keep = rows_to_keep[rows_to_keep]\n",
        "df = df[df['USER_ID'].isin(rows_to_keep.index)]"
      ]
    },
    {
      "cell_type": "code",
      "execution_count": 389,
      "metadata": {
        "colab": {
          "base_uri": "https://localhost:8080/",
          "height": 112
        },
        "id": "FAxqhi-9gGZB",
        "outputId": "012084a0-f5ba-41d2-e883-c9c9c0bc4c6f"
      },
      "outputs": [
        {
          "data": {
            "text/html": [
              "<div>\n",
              "<style scoped>\n",
              "    .dataframe tbody tr th:only-of-type {\n",
              "        vertical-align: middle;\n",
              "    }\n",
              "\n",
              "    .dataframe tbody tr th {\n",
              "        vertical-align: top;\n",
              "    }\n",
              "\n",
              "    .dataframe thead th {\n",
              "        text-align: right;\n",
              "    }\n",
              "</style>\n",
              "<table border=\"1\" class=\"dataframe\">\n",
              "  <thead>\n",
              "    <tr style=\"text-align: right;\">\n",
              "      <th></th>\n",
              "      <th>count</th>\n",
              "      <th>mean</th>\n",
              "      <th>std</th>\n",
              "      <th>min</th>\n",
              "      <th>25%</th>\n",
              "      <th>50%</th>\n",
              "      <th>75%</th>\n",
              "      <th>max</th>\n",
              "    </tr>\n",
              "  </thead>\n",
              "  <tbody>\n",
              "    <tr>\n",
              "      <th>USER_ID</th>\n",
              "      <td>6070.0</td>\n",
              "      <td>4983.664086</td>\n",
              "      <td>2897.990118</td>\n",
              "      <td>2.0</td>\n",
              "      <td>2472.25</td>\n",
              "      <td>4950.0</td>\n",
              "      <td>7501.0</td>\n",
              "      <td>9998.00</td>\n",
              "    </tr>\n",
              "    <tr>\n",
              "      <th>REVENUE</th>\n",
              "      <td>6070.0</td>\n",
              "      <td>0.107064</td>\n",
              "      <td>2.673501</td>\n",
              "      <td>0.0</td>\n",
              "      <td>0.00</td>\n",
              "      <td>0.0</td>\n",
              "      <td>0.0</td>\n",
              "      <td>196.01</td>\n",
              "    </tr>\n",
              "  </tbody>\n",
              "</table>\n",
              "</div>"
            ],
            "text/plain": [
              "          count         mean          std  min      25%     50%     75%   \n",
              "USER_ID  6070.0  4983.664086  2897.990118  2.0  2472.25  4950.0  7501.0  \\\n",
              "REVENUE  6070.0     0.107064     2.673501  0.0     0.00     0.0     0.0   \n",
              "\n",
              "             max  \n",
              "USER_ID  9998.00  \n",
              "REVENUE   196.01  "
            ]
          },
          "execution_count": 389,
          "metadata": {},
          "output_type": "execute_result"
        }
      ],
      "source": [
        "df.describe().T"
      ]
    },
    {
      "cell_type": "code",
      "execution_count": 390,
      "metadata": {},
      "outputs": [
        {
          "data": {
            "text/plain": [
              "USER_ID\n",
              "2       1\n",
              "6674    1\n",
              "6672    1\n",
              "6671    1\n",
              "6668    1\n",
              "       ..\n",
              "3331    1\n",
              "3330    1\n",
              "3327    1\n",
              "3326    1\n",
              "9998    1\n",
              "Name: VARIANT_NAME, Length: 4783, dtype: int64"
            ]
          },
          "execution_count": 390,
          "metadata": {},
          "output_type": "execute_result"
        }
      ],
      "source": [
        "df.groupby(\"USER_ID\")[\"VARIANT_NAME\"].nunique().sort_values(ascending=False)"
      ]
    },
    {
      "cell_type": "code",
      "execution_count": 391,
      "metadata": {
        "colab": {
          "base_uri": "https://localhost:8080/"
        },
        "id": "o66we9JLkLFJ",
        "outputId": "916f4246-5055-465e-f3a7-01e9e3173ccf"
      },
      "outputs": [
        {
          "data": {
            "text/plain": [
              "VARIANT_NAME\n",
              "variant    3044\n",
              "control    3026\n",
              "Name: count, dtype: int64"
            ]
          },
          "execution_count": 391,
          "metadata": {},
          "output_type": "execute_result"
        }
      ],
      "source": [
        "df['VARIANT_NAME'].value_counts()"
      ]
    },
    {
      "attachments": {},
      "cell_type": "markdown",
      "metadata": {},
      "source": [
        "Now that we removed some users, let's see if we continue having outliers."
      ]
    },
    {
      "cell_type": "code",
      "execution_count": 392,
      "metadata": {
        "colab": {
          "base_uri": "https://localhost:8080/",
          "height": 466
        },
        "id": "CmzQxTnYaf48",
        "outputId": "7db2c8ee-e4ec-4d04-cbbf-828d0703ef85"
      },
      "outputs": [
        {
          "data": {
            "text/plain": [
              "<Axes: xlabel='VARIANT_NAME', ylabel='REVENUE'>"
            ]
          },
          "execution_count": 392,
          "metadata": {},
          "output_type": "execute_result"
        },
        {
          "data": {
            "image/png": "[encoded data removed]",
            "text/plain": [
              "<Figure size 640x480 with 1 Axes>"
            ]
          },
          "metadata": {},
          "output_type": "display_data"
        }
      ],
      "source": [
        "sns.boxenplot(\n",
        "  df[['VARIANT_NAME', 'REVENUE']], \n",
        "  x = \"VARIANT_NAME\",\n",
        "  y = 'REVENUE',\n",
        "  hue=\"VARIANT_NAME\", \n",
        "  palette='rocket'\n",
        ")"
      ]
    },
    {
      "attachments": {},
      "cell_type": "markdown",
      "metadata": {},
      "source": [
        "We still have outliers, so we proceed to drop them."
      ]
    },
    {
      "attachments": {},
      "cell_type": "markdown",
      "metadata": {
        "id": "oFpyQ2N4lIZT"
      },
      "source": [
        "<a name=\"REMOVING-OUTLIERS\"></a>\n",
        "## Removing outliers"
      ]
    },
    {
      "attachments": {},
      "cell_type": "markdown",
      "metadata": {},
      "source": [
        "Let's determine the most appropriate threshold to identify outliers."
      ]
    },
    {
      "cell_type": "code",
      "execution_count": 393,
      "metadata": {},
      "outputs": [
        {
          "data": {
            "image/png": "[encoded data removed]",
            "text/plain": [
              "<Figure size 640x480 with 1 Axes>"
            ]
          },
          "metadata": {},
          "output_type": "display_data"
        },
        {
          "data": {
            "image/png": "[encoded data removed]",
            "text/plain": [
              "<Figure size 640x480 with 1 Axes>"
            ]
          },
          "metadata": {},
          "output_type": "display_data"
        }
      ],
      "source": [
        "plt.hist(df[(df['VARIANT_NAME'] == 'variant') & (df['REVENUE'] != 0)]['REVENUE'], bins =20)\n",
        "plt.title('variant')\n",
        "plt.show()\n",
        "\n",
        "plt.hist(df[(df['VARIANT_NAME'] == 'control') & (df['REVENUE'] != 0)]['REVENUE'], bins =20)\n",
        "plt.title('control')\n",
        "plt.show()"
      ]
    },
    {
      "attachments": {},
      "cell_type": "markdown",
      "metadata": {},
      "source": [
        "Anything starting at or above 25 on Revenue will be consider an outlier."
      ]
    },
    {
      "cell_type": "code",
      "execution_count": 394,
      "metadata": {
        "id": "C3-H5sWJkf0G"
      },
      "outputs": [
        {
          "data": {
            "image/png": "[encoded data removed]",
            "text/plain": [
              "<Figure size 640x480 with 1 Axes>"
            ]
          },
          "metadata": {},
          "output_type": "display_data"
        },
        {
          "data": {
            "image/png": "[encoded data removed]",
            "text/plain": [
              "<Figure size 640x480 with 1 Axes>"
            ]
          },
          "metadata": {},
          "output_type": "display_data"
        }
      ],
      "source": [
        "index_to_drop =  df[(df['REVENUE'] >= 25)].index\n",
        "df.drop(index=index_to_drop, inplace= True)\n",
        "\n",
        "plt.hist(df[(df['VARIANT_NAME'] == 'variant') & (df['REVENUE'] != 0)]['REVENUE'], bins =20)\n",
        "plt.title('variant')\n",
        "plt.show()\n",
        "\n",
        "plt.hist(df[(df['VARIANT_NAME'] == 'control') & (df['REVENUE'] != 0)]['REVENUE'], bins =20)\n",
        "plt.title('control')\n",
        "plt.show()"
      ]
    },
    {
      "cell_type": "code",
      "execution_count": 395,
      "metadata": {
        "colab": {
          "base_uri": "https://localhost:8080/",
          "height": 466
        },
        "id": "FULnNhPmlZDH",
        "outputId": "e8607ccd-d64c-43d6-a5cb-189de289f52f"
      },
      "outputs": [
        {
          "data": {
            "image/png": "[encoded data removed]",
            "text/plain": [
              "<Figure size 640x480 with 1 Axes>"
            ]
          },
          "metadata": {},
          "output_type": "display_data"
        }
      ],
      "source": [
        "sns.boxenplot(\n",
        "  df[['VARIANT_NAME', 'REVENUE']], \n",
        "  x = \"VARIANT_NAME\",\n",
        "  y = 'REVENUE',\n",
        "  hue=\"VARIANT_NAME\", \n",
        "  palette='rocket'\n",
        ")\n",
        "plt.show()"
      ]
    },
    {
      "attachments": {},
      "cell_type": "markdown",
      "metadata": {},
      "source": [
        "<a name=\"FEATURE-ENGINEERING\"></a>\n",
        "# FEATURE ENGINEERING"
      ]
    },
    {
      "attachments": {},
      "cell_type": "markdown",
      "metadata": {},
      "source": [
        "We create a new DataFrame by grouping the Revenue data by USER_ID and VARIANT_NAME. Next, we add a new column called SALE, where individuals who have generated non-zero revenue will be assigned a value of 1, while those with zero revenue will be assigned a value of 0."
      ]
    },
    {
      "cell_type": "code",
      "execution_count": 396,
      "metadata": {
        "colab": {
          "base_uri": "https://localhost:8080/",
          "height": 424
        },
        "id": "XGHx3PmPAJs6",
        "outputId": "73acccad-3c6b-4681-e103-a08e930c1daf"
      },
      "outputs": [
        {
          "data": {
            "text/html": [
              "<div>\n",
              "<style scoped>\n",
              "    .dataframe tbody tr th:only-of-type {\n",
              "        vertical-align: middle;\n",
              "    }\n",
              "\n",
              "    .dataframe tbody tr th {\n",
              "        vertical-align: top;\n",
              "    }\n",
              "\n",
              "    .dataframe thead th {\n",
              "        text-align: right;\n",
              "    }\n",
              "</style>\n",
              "<table border=\"1\" class=\"dataframe\">\n",
              "  <thead>\n",
              "    <tr style=\"text-align: right;\">\n",
              "      <th></th>\n",
              "      <th>USER_ID</th>\n",
              "      <th>VARIANT_NAME</th>\n",
              "      <th>REVENUE</th>\n",
              "      <th>SALE</th>\n",
              "    </tr>\n",
              "  </thead>\n",
              "  <tbody>\n",
              "    <tr>\n",
              "      <th>0</th>\n",
              "      <td>2</td>\n",
              "      <td>control</td>\n",
              "      <td>0.0</td>\n",
              "      <td>0</td>\n",
              "    </tr>\n",
              "    <tr>\n",
              "      <th>1</th>\n",
              "      <td>4</td>\n",
              "      <td>variant</td>\n",
              "      <td>0.0</td>\n",
              "      <td>0</td>\n",
              "    </tr>\n",
              "    <tr>\n",
              "      <th>2</th>\n",
              "      <td>5</td>\n",
              "      <td>variant</td>\n",
              "      <td>0.0</td>\n",
              "      <td>0</td>\n",
              "    </tr>\n",
              "    <tr>\n",
              "      <th>3</th>\n",
              "      <td>6</td>\n",
              "      <td>variant</td>\n",
              "      <td>0.0</td>\n",
              "      <td>0</td>\n",
              "    </tr>\n",
              "    <tr>\n",
              "      <th>4</th>\n",
              "      <td>9</td>\n",
              "      <td>variant</td>\n",
              "      <td>0.0</td>\n",
              "      <td>0</td>\n",
              "    </tr>\n",
              "    <tr>\n",
              "      <th>...</th>\n",
              "      <td>...</td>\n",
              "      <td>...</td>\n",
              "      <td>...</td>\n",
              "      <td>...</td>\n",
              "    </tr>\n",
              "    <tr>\n",
              "      <th>4777</th>\n",
              "      <td>9990</td>\n",
              "      <td>variant</td>\n",
              "      <td>0.0</td>\n",
              "      <td>0</td>\n",
              "    </tr>\n",
              "    <tr>\n",
              "      <th>4778</th>\n",
              "      <td>9992</td>\n",
              "      <td>control</td>\n",
              "      <td>0.0</td>\n",
              "      <td>0</td>\n",
              "    </tr>\n",
              "    <tr>\n",
              "      <th>4779</th>\n",
              "      <td>9993</td>\n",
              "      <td>control</td>\n",
              "      <td>0.0</td>\n",
              "      <td>0</td>\n",
              "    </tr>\n",
              "    <tr>\n",
              "      <th>4780</th>\n",
              "      <td>9995</td>\n",
              "      <td>variant</td>\n",
              "      <td>0.0</td>\n",
              "      <td>0</td>\n",
              "    </tr>\n",
              "    <tr>\n",
              "      <th>4781</th>\n",
              "      <td>9998</td>\n",
              "      <td>control</td>\n",
              "      <td>0.0</td>\n",
              "      <td>0</td>\n",
              "    </tr>\n",
              "  </tbody>\n",
              "</table>\n",
              "<p>4782 rows × 4 columns</p>\n",
              "</div>"
            ],
            "text/plain": [
              "      USER_ID VARIANT_NAME  REVENUE  SALE\n",
              "0           2      control      0.0     0\n",
              "1           4      variant      0.0     0\n",
              "2           5      variant      0.0     0\n",
              "3           6      variant      0.0     0\n",
              "4           9      variant      0.0     0\n",
              "...       ...          ...      ...   ...\n",
              "4777     9990      variant      0.0     0\n",
              "4778     9992      control      0.0     0\n",
              "4779     9993      control      0.0     0\n",
              "4780     9995      variant      0.0     0\n",
              "4781     9998      control      0.0     0\n",
              "\n",
              "[4782 rows x 4 columns]"
            ]
          },
          "execution_count": 396,
          "metadata": {},
          "output_type": "execute_result"
        }
      ],
      "source": [
        "df_grouped_users = pd.DataFrame(df.groupby(['USER_ID', 'VARIANT_NAME'])['REVENUE'].sum()).reset_index()\n",
        "df_grouped_users['SALE'] = np.where(df_grouped_users['REVENUE'] == 0, 0, 1)\n",
        "df_grouped_users"
      ]
    },
    {
      "attachments": {},
      "cell_type": "markdown",
      "metadata": {
        "id": "XzgIF_FrmWtv"
      },
      "source": [
        "<a name=\"A/B-TESTING\"></a>\n",
        "# A/B TESTING"
      ]
    },
    {
      "attachments": {},
      "cell_type": "markdown",
      "metadata": {},
      "source": [
        "General assumptions:\n",
        "- Randomness: The samples are random subsets of larger population\n",
        "- Independence of observations: Each observation is independent\n",
        "- Large sample size: The sample is big enough to mitigate uncertainty, so that the Central Limit Theorem applies\n",
        "\n",
        "Test assumptions:\n",
        "\n",
        "- T-test for difference in means:\n",
        "    - Large sample size: \n",
        "    \n",
        "        - At least 30 observations in each sample. \n",
        "        \n",
        "            n1 >= 30, n2 >= 30\n",
        "\n",
        "- Mann-Whitney U rank test:\n",
        "    - The data must be independent.\n",
        "\n",
        "    - The data must be ordinal or capable of being ordered from least to greatest.\n",
        "\n",
        "    - It is not necessary to assume that the samples are normally distributed or that they come from normal populations. However, for the test to compare medians, both samples must have the same type of distribution (variance, skewness, etc.).\n",
        "\n",
        "Equality of variance between groups (homoscedasticity).\n",
        "- Permutation test for difference in means\n",
        "- Levene test for equal variances between samples\n",
        "- Z-test for proportions:\n",
        "    - Large sample size: \n",
        "\n",
        "        - Number of successes in each sample is equal or greater than 10\n",
        "\n",
        "            n1 * p_hat1 >= 10\n",
        "            n2 * p_hat2 >= 10\n",
        "            \n",
        "        - Number of failures in each sample is equal or greater than 10\n",
        "        \n",
        "            n1 * (1-p_hat1) >= 10\n",
        "            n2 * (1-p_hat2) >= 10\n",
        "\n",
        "- Permutation test for proportions\n",
        "- Chi-Square test of Independence:\n",
        "    - Large sample size:\n",
        "\n",
        "        - The number of successes in each group is equal or greater than 5\n",
        "\n",
        "            ni * p_hat_i >= 5 for all values of i\n",
        "\n",
        "        - The number of failures in each group is equal or greater than 5\n",
        "\n",
        "            ni * (1-p_hat_i) >= 5 for all values of i\n",
        "\n",
        "- Fisher's Exact test\n",
        "    - Fisher's exact test is particularly suitable when dealing with small sample sizes. It is especially useful when the sample sizes are less than 20 or when the cells in the contingency table have very low expected values under the null hypothesis."
      ]
    },
    {
      "attachments": {},
      "cell_type": "markdown",
      "metadata": {},
      "source": [
        "In this section, we'll apply different test for proportions and difference in means. The objective is to apply difference tests even if the data does not strictly meet the underlying assumptions to use them and compare the results.\n",
        "\n",
        "First, let's examine the data with a visualization."
      ]
    },
    {
      "cell_type": "code",
      "execution_count": 397,
      "metadata": {},
      "outputs": [
        {
          "data": {
            "image/png": "[encoded data removed]",
            "text/plain": [
              "<Figure size 1800x600 with 3 Axes>"
            ]
          },
          "metadata": {},
          "output_type": "display_data"
        }
      ],
      "source": [
        "\n",
        "df_grouped_users_num = df_grouped_users.select_dtypes(include='number')\n",
        "n_cols =  3\n",
        "red_circle_boxen = dict(color='red', marker='o', edgecolors='white')\n",
        "# n_rows = int(np.ceil(((df_grouped_users_num.shape[1]-1) / n_cols)))\n",
        "n_rows = int(np.ceil(((df_grouped_users_num.shape[1]) / n_cols)))\n",
        "fig, axes = plt.subplots(nrows=n_rows, ncols=n_cols,figsize=(18, (n_rows*6)))\n",
        "for i, column in enumerate(df_grouped_users_num.columns):\n",
        "  # print(i)\n",
        "  # print(n_cols)\n",
        "  # print(column)\n",
        "  # print(axes)\n",
        "  # print(i//n_cols,i%n_cols)\n",
        "  if(len(df_grouped_users_num[column].unique()) <= 24): # \"categorical\" data\n",
        "    sns.countplot(\n",
        "      df_grouped_users[[column, 'VARIANT_NAME']],\n",
        "      x = column,\n",
        "      hue=\"VARIANT_NAME\", \n",
        "      ax=axes[i%n_cols],\n",
        "      # ax=axes[i//n_cols,i%n_cols],\n",
        "    )\n",
        "  else: # if it's not categorical data...\n",
        "\n",
        "    sns.boxenplot(\n",
        "      df_grouped_users[[column, 'VARIANT_NAME']],\n",
        "      x = \"VARIANT_NAME\",\n",
        "      hue=\"VARIANT_NAME\", \n",
        "      y = column,\n",
        "      ax=axes[i%n_cols],\n",
        "      # ax=axes[i//n_cols,i%n_cols],\n",
        "      flier_kws=red_circle_boxen\n",
        "    )"
      ]
    },
    {
      "attachments": {},
      "cell_type": "markdown",
      "metadata": {},
      "source": [
        "The graphs allow us to suspect that there is no difference between Variant and Control among the different variables. Now we start doing the tests."
      ]
    },
    {
      "cell_type": "code",
      "execution_count": 398,
      "metadata": {},
      "outputs": [],
      "source": [
        "# DataFrame to display the results at the end\n",
        "pd.set_option('display.max_colwidth', None)\n",
        "df_results = pd.DataFrame(columns=['test_for', 'test_type', 'H0', 'H1', 'pvalue', 'results', 'results_details'])"
      ]
    },
    {
      "attachments": {},
      "cell_type": "markdown",
      "metadata": {},
      "source": [
        "<a name=\"A/B-TESTING-REVENUE\"></a>\n",
        "## A/B Testing on Revenue (difference in means)"
      ]
    },
    {
      "cell_type": "code",
      "execution_count": 399,
      "metadata": {
        "colab": {
          "base_uri": "https://localhost:8080/"
        },
        "id": "HSueQV4pFi8p",
        "outputId": "e23ac0ac-6f2a-4f21-eb7c-4e21335225ad"
      },
      "outputs": [
        {
          "name": "stdout",
          "output_type": "stream",
          "text": [
            "mean_control: 0.1026\n",
            "mean_variant: 0.0749\n",
            "mean_control - mean_variant: 0.0277\n"
          ]
        }
      ],
      "source": [
        "mean_control = df_grouped_users[df_grouped_users['VARIANT_NAME'] == 'control']['REVENUE'].mean()\n",
        "mean_variant = df_grouped_users[df_grouped_users['VARIANT_NAME'] == 'variant']['REVENUE'].mean()\n",
        "print(f'mean_control: {mean_control:.4f}')\n",
        "print(f'mean_variant: {mean_variant:.4f}')\n",
        "print(f'mean_control - mean_variant: {mean_control - mean_variant:.4f}')"
      ]
    },
    {
      "attachments": {},
      "cell_type": "markdown",
      "metadata": {},
      "source": [
        "Based on the calculations for the mean of each group, we make the hypothesis that the variant group generates less revenue than the control group on average.\n",
        "\n",
        "Null Hypothesis (H0) = No difference on revenue mean between the Control and Variant groups . (mean_control - mean_variant = 0)\n",
        "\n",
        "Alternative Hypothesis (H1) = Variant group generates less revenue on average / Difference between control and variant revenue means is positive. (mean_control - mean_variant > 0)"
      ]
    },
    {
      "attachments": {},
      "cell_type": "markdown",
      "metadata": {},
      "source": [
        "<a name=\"PERMUTATION-REVENUE\"></a>\n",
        "### Permutation test"
      ]
    },
    {
      "attachments": {},
      "cell_type": "markdown",
      "metadata": {},
      "source": [
        "Permutation test is closer to a one-size-fits-all approach to inference because it doesn't need assumptions about the data. The counterpart is that if the data is big enough, it could be computational expensive."
      ]
    },
    {
      "cell_type": "code",
      "execution_count": 400,
      "metadata": {},
      "outputs": [
        {
          "name": "stdout",
          "output_type": "stream",
          "text": [
            "p-value: 0.1559\n"
          ]
        },
        {
          "data": {
            "image/png": "[encoded data removed]",
            "text/plain": [
              "<Figure size 500x500 with 1 Axes>"
            ]
          },
          "metadata": {},
          "output_type": "display_data"
        }
      ],
      "source": [
        "def statistic(x, y, axis):\n",
        "    return np.mean(x, axis=axis) - np.mean(y, axis=axis)\n",
        "\n",
        "permutation_results = stats.permutation_test(\n",
        "    (df_grouped_users[df_grouped_users['VARIANT_NAME'] == 'control']['REVENUE'], \n",
        "     df_grouped_users[df_grouped_users['VARIANT_NAME'] == 'variant']['REVENUE']),\n",
        "     statistic,\n",
        "     vectorized=True,\n",
        "     alternative='greater'\n",
        "    )\n",
        "print(f'p-value: {permutation_results.pvalue:.4f}')\n",
        "\n",
        "fig, ax = plt.subplots(figsize=(5, 5))\n",
        "ax.hist(permutation_results.null_distribution, bins=11, rwidth=0.85)\n",
        "ax.axvline(x = mean_control - mean_variant, color='red', label='Observed difference')\n",
        "ax.set_xlabel('Revenue differences')\n",
        "ax.set_ylabel('Frequency')\n",
        "\n",
        "ax.legend();\n",
        "plt.show()"
      ]
    },
    {
      "cell_type": "code",
      "execution_count": 401,
      "metadata": {},
      "outputs": [
        {
          "data": {
            "text/html": [
              "<div>\n",
              "<style scoped>\n",
              "    .dataframe tbody tr th:only-of-type {\n",
              "        vertical-align: middle;\n",
              "    }\n",
              "\n",
              "    .dataframe tbody tr th {\n",
              "        vertical-align: top;\n",
              "    }\n",
              "\n",
              "    .dataframe thead th {\n",
              "        text-align: right;\n",
              "    }\n",
              "</style>\n",
              "<table border=\"1\" class=\"dataframe\">\n",
              "  <thead>\n",
              "    <tr style=\"text-align: right;\">\n",
              "      <th></th>\n",
              "      <th>test_for</th>\n",
              "      <th>test_type</th>\n",
              "      <th>H0</th>\n",
              "      <th>H1</th>\n",
              "      <th>pvalue</th>\n",
              "      <th>results</th>\n",
              "      <th>results_details</th>\n",
              "    </tr>\n",
              "  </thead>\n",
              "  <tbody>\n",
              "    <tr>\n",
              "      <th>0</th>\n",
              "      <td>Difference in Revenue means</td>\n",
              "      <td>Permutation Test</td>\n",
              "      <td>No difference on Revenue means</td>\n",
              "      <td>Mean Revenue on Variant group is lower</td>\n",
              "      <td>0.1559</td>\n",
              "      <td>Fail to reject the Null Hypothesis</td>\n",
              "      <td>Seems like there is no difference between Control and Variant groups on Revenue means</td>\n",
              "    </tr>\n",
              "  </tbody>\n",
              "</table>\n",
              "</div>"
            ],
            "text/plain": [
              "                      test_for         test_type   \n",
              "0  Difference in Revenue means  Permutation Test  \\\n",
              "\n",
              "                               H0                                      H1   \n",
              "0  No difference on Revenue means  Mean Revenue on Variant group is lower  \\\n",
              "\n",
              "   pvalue                             results   \n",
              "0  0.1559  Fail to reject the Null Hypothesis  \\\n",
              "\n",
              "                                                                         results_details  \n",
              "0  Seems like there is no difference between Control and Variant groups on Revenue means  "
            ]
          },
          "execution_count": 401,
          "metadata": {},
          "output_type": "execute_result"
        }
      ],
      "source": [
        "if permutation_results.pvalue >= 0.05:\n",
        "    results_hypothesis = \"Fail to reject the Null Hypothesis\"\n",
        "    results_hypothesis_details = \"Seems like there is no difference between Control and Variant groups on Revenue means\"\n",
        "else:\n",
        "    results_hypothesis = \"Reject the Null Hypothesis\"\n",
        "    results_hypothesis_details = \"Seems like Variant group generates less Revenue on average\"\n",
        "\n",
        "df_results_mean_diff_permutation = pd.DataFrame({\n",
        "    'test_for': \"Difference in Revenue means\",\n",
        "    'test_type': \"Permutation Test\",\n",
        "    'H0': \"No difference on Revenue means\",\n",
        "    'H1': \"Mean Revenue on Variant group is lower\",\n",
        "    'pvalue': [permutation_results.pvalue],\n",
        "    'results': results_hypothesis,\n",
        "    'results_details': results_hypothesis_details\n",
        "})\n",
        "\n",
        "df_results = pd.concat([df_results, df_results_mean_diff_permutation])\n",
        "\n",
        "df_results_mean_diff_permutation"
      ]
    },
    {
      "attachments": {},
      "cell_type": "markdown",
      "metadata": {},
      "source": [
        "<a name=\"T-TEST\"></a>\n",
        "### T-Test"
      ]
    },
    {
      "attachments": {},
      "cell_type": "markdown",
      "metadata": {},
      "source": [
        "One of the assumptions of the t-test is that the data is normally distributed, which in our case it is clearly not true, but we may justify the use of the t-test because we have sufficient data to apply The Central Limit Theorem. We will attempt to use it just to see the results and then we compare to other test that don't make assumptions on normality."
      ]
    },
    {
      "attachments": {},
      "cell_type": "markdown",
      "metadata": {},
      "source": [
        "#### Levene test (for equal variances)"
      ]
    },
    {
      "attachments": {},
      "cell_type": "markdown",
      "metadata": {},
      "source": [
        "Determining if the variances of the samples are equal will help us decide which test are appropriate for the t-test. If variances are equal, a standard  independent 2 sample t-test should be performed, otherwise, Welch’s t-test should be performed."
      ]
    },
    {
      "cell_type": "code",
      "execution_count": 402,
      "metadata": {},
      "outputs": [
        {
          "name": "stdout",
          "output_type": "stream",
          "text": [
            "p-value: 0.3030\n"
          ]
        }
      ],
      "source": [
        "levene_results = stats.levene(\n",
        "    df_grouped_users[df_grouped_users['VARIANT_NAME'] == 'control']['REVENUE'],\n",
        "    df_grouped_users[df_grouped_users['VARIANT_NAME'] == 'variant']['REVENUE']\n",
        ")\n",
        "print(f'p-value: {levene_results.pvalue:.4f}')"
      ]
    },
    {
      "attachments": {},
      "cell_type": "markdown",
      "metadata": {},
      "source": [
        "With a p value of 0.30 we failed to reject the null hypothesis that the samples are from populations with equal variances. We will perform a standard independent t-test."
      ]
    },
    {
      "cell_type": "code",
      "execution_count": 403,
      "metadata": {},
      "outputs": [
        {
          "name": "stdout",
          "output_type": "stream",
          "text": [
            "p-value: 0.1515\n"
          ]
        }
      ],
      "source": [
        "# df_grouped_users[df_grouped_users['VARIANT_NAME'] == 'control']['REVENUE']\n",
        "# df_grouped_users[df_grouped_users['VARIANT_NAME'] == 'variant']['REVENUE']\n",
        "\n",
        "ttest_results = stats.ttest_ind(\n",
        "    df_grouped_users[df_grouped_users['VARIANT_NAME'] == 'control']['REVENUE'], \n",
        "    df_grouped_users[df_grouped_users['VARIANT_NAME'] == 'variant']['REVENUE'],\n",
        "    equal_var=True,\n",
        "    alternative='greater'\n",
        ")\n",
        "\n",
        "print(f'p-value: {ttest_results.pvalue:.4f}')"
      ]
    },
    {
      "cell_type": "code",
      "execution_count": 404,
      "metadata": {},
      "outputs": [
        {
          "data": {
            "text/html": [
              "<div>\n",
              "<style scoped>\n",
              "    .dataframe tbody tr th:only-of-type {\n",
              "        vertical-align: middle;\n",
              "    }\n",
              "\n",
              "    .dataframe tbody tr th {\n",
              "        vertical-align: top;\n",
              "    }\n",
              "\n",
              "    .dataframe thead th {\n",
              "        text-align: right;\n",
              "    }\n",
              "</style>\n",
              "<table border=\"1\" class=\"dataframe\">\n",
              "  <thead>\n",
              "    <tr style=\"text-align: right;\">\n",
              "      <th></th>\n",
              "      <th>test_for</th>\n",
              "      <th>test_type</th>\n",
              "      <th>H0</th>\n",
              "      <th>H1</th>\n",
              "      <th>pvalue</th>\n",
              "      <th>results</th>\n",
              "      <th>results_details</th>\n",
              "    </tr>\n",
              "  </thead>\n",
              "  <tbody>\n",
              "    <tr>\n",
              "      <th>0</th>\n",
              "      <td>Difference in Revenue means</td>\n",
              "      <td>T-Test</td>\n",
              "      <td>No difference on Revenue means</td>\n",
              "      <td>Mean Revenue on Variant group is lower</td>\n",
              "      <td>0.151482</td>\n",
              "      <td>Fail to reject the Null Hypothesis</td>\n",
              "      <td>Seems like there is no difference between Control and Variant groups on Revenue means</td>\n",
              "    </tr>\n",
              "  </tbody>\n",
              "</table>\n",
              "</div>"
            ],
            "text/plain": [
              "                      test_for test_type                              H0   \n",
              "0  Difference in Revenue means    T-Test  No difference on Revenue means  \\\n",
              "\n",
              "                                       H1    pvalue   \n",
              "0  Mean Revenue on Variant group is lower  0.151482  \\\n",
              "\n",
              "                              results   \n",
              "0  Fail to reject the Null Hypothesis  \\\n",
              "\n",
              "                                                                         results_details  \n",
              "0  Seems like there is no difference between Control and Variant groups on Revenue means  "
            ]
          },
          "execution_count": 404,
          "metadata": {},
          "output_type": "execute_result"
        }
      ],
      "source": [
        "if ttest_results.pvalue >= 0.05:\n",
        "    results_hypothesis = \"Fail to reject the Null Hypothesis\"\n",
        "    results_hypothesis_details = \"Seems like there is no difference between Control and Variant groups on Revenue means\"\n",
        "else:\n",
        "    results_hypothesis = \"Reject the Null Hypothesis\"\n",
        "    results_hypothesis_details = \"Seems like Variant group generates less Revenue on average\"\n",
        "\n",
        "df_results_mean_diff_ttest = pd.DataFrame({\n",
        "    'test_for': \"Difference in Revenue means\",\n",
        "    'test_type': \"T-Test\",\n",
        "    'H0': \"No difference on Revenue means\",\n",
        "    'H1': \"Mean Revenue on Variant group is lower\",\n",
        "    'pvalue': [ttest_results.pvalue],\n",
        "    'results': results_hypothesis,\n",
        "    'results_details': results_hypothesis_details\n",
        "})\n",
        "\n",
        "df_results = pd.concat([df_results, df_results_mean_diff_ttest])\n",
        "\n",
        "df_results_mean_diff_ttest"
      ]
    },
    {
      "attachments": {},
      "cell_type": "markdown",
      "metadata": {},
      "source": [
        "<a name=\"MANN-WHITNEY-TEST\"></a>\n",
        "### Mann-Whitney U rank test"
      ]
    },
    {
      "attachments": {},
      "cell_type": "markdown",
      "metadata": {},
      "source": [
        "Sometimes is ambiguous to correctly know when the condition of normality is met to perform a t-test, as there are situations where the samples are big enough but at the same time are extremely skewed to apply the Central Limit Theorem. The data we have is a reflect of that situation. For such cases, it is convenient to perform non-parametric test. We will use the Mann-Whitney U rank test for this purpose."
      ]
    },
    {
      "cell_type": "code",
      "execution_count": 405,
      "metadata": {},
      "outputs": [
        {
          "name": "stdout",
          "output_type": "stream",
          "text": [
            "p-value: 0.1457\n"
          ]
        }
      ],
      "source": [
        "mannwhitneyu_results = stats.mannwhitneyu(\n",
        "    df_grouped_users[df_grouped_users['VARIANT_NAME'] == 'control']['REVENUE'], \n",
        "    df_grouped_users[df_grouped_users['VARIANT_NAME'] == 'variant']['REVENUE'],\n",
        "    alternative='greater'\n",
        ")\n",
        "\n",
        "print(f'p-value: {mannwhitneyu_results.pvalue:.4f}')"
      ]
    },
    {
      "cell_type": "code",
      "execution_count": 406,
      "metadata": {},
      "outputs": [
        {
          "data": {
            "text/html": [
              "<div>\n",
              "<style scoped>\n",
              "    .dataframe tbody tr th:only-of-type {\n",
              "        vertical-align: middle;\n",
              "    }\n",
              "\n",
              "    .dataframe tbody tr th {\n",
              "        vertical-align: top;\n",
              "    }\n",
              "\n",
              "    .dataframe thead th {\n",
              "        text-align: right;\n",
              "    }\n",
              "</style>\n",
              "<table border=\"1\" class=\"dataframe\">\n",
              "  <thead>\n",
              "    <tr style=\"text-align: right;\">\n",
              "      <th></th>\n",
              "      <th>test_for</th>\n",
              "      <th>test_type</th>\n",
              "      <th>H0</th>\n",
              "      <th>H1</th>\n",
              "      <th>pvalue</th>\n",
              "      <th>results</th>\n",
              "      <th>results_details</th>\n",
              "    </tr>\n",
              "  </thead>\n",
              "  <tbody>\n",
              "    <tr>\n",
              "      <th>0</th>\n",
              "      <td>Difference in Revenue means</td>\n",
              "      <td>Mann-Whitney U rank Test</td>\n",
              "      <td>No difference on Revenue means</td>\n",
              "      <td>Mean Revenue on Variant group is lower</td>\n",
              "      <td>0.145674</td>\n",
              "      <td>Fail to reject the Null Hypothesis</td>\n",
              "      <td>Seems like there is no difference between Control and Variant groups on Revenue means</td>\n",
              "    </tr>\n",
              "  </tbody>\n",
              "</table>\n",
              "</div>"
            ],
            "text/plain": [
              "                      test_for                 test_type   \n",
              "0  Difference in Revenue means  Mann-Whitney U rank Test  \\\n",
              "\n",
              "                               H0                                      H1   \n",
              "0  No difference on Revenue means  Mean Revenue on Variant group is lower  \\\n",
              "\n",
              "     pvalue                             results   \n",
              "0  0.145674  Fail to reject the Null Hypothesis  \\\n",
              "\n",
              "                                                                         results_details  \n",
              "0  Seems like there is no difference between Control and Variant groups on Revenue means  "
            ]
          },
          "execution_count": 406,
          "metadata": {},
          "output_type": "execute_result"
        }
      ],
      "source": [
        "if mannwhitneyu_results.pvalue >= 0.05:\n",
        "    results_hypothesis = \"Fail to reject the Null Hypothesis\"\n",
        "    results_hypothesis_details = \"Seems like there is no difference between Control and Variant groups on Revenue means\"\n",
        "else:\n",
        "    results_hypothesis = \"Reject the Null Hypothesis\"\n",
        "    results_hypothesis_details = \"Seems like Variant group generates less Revenue on average\"\n",
        "\n",
        "df_results_mean_diff_mannwhitneyu = pd.DataFrame({\n",
        "    'test_for': \"Difference in Revenue means\",\n",
        "    'test_type': \"Mann-Whitney U rank Test\",\n",
        "    'H0': \"No difference on Revenue means\",\n",
        "    'H1': \"Mean Revenue on Variant group is lower\",\n",
        "    'pvalue': [mannwhitneyu_results.pvalue],\n",
        "    'results': results_hypothesis,\n",
        "    'results_details': results_hypothesis_details\n",
        "})\n",
        "\n",
        "df_results = pd.concat([df_results, df_results_mean_diff_mannwhitneyu])\n",
        "\n",
        "df_results_mean_diff_mannwhitneyu"
      ]
    },
    {
      "attachments": {},
      "cell_type": "markdown",
      "metadata": {},
      "source": [
        "<a name=\"A/B-TESTING-SALES\"></a>\n",
        "## A/B Testing on Sales (Proportions)"
      ]
    },
    {
      "attachments": {},
      "cell_type": "markdown",
      "metadata": {},
      "source": [
        "For proportion calculations, we will consider individuals who have generated at least one sale as 'SALE' (this has been calculated previously). \n",
        "\n",
        "For 'NO_SALE' we will count the number of individuals who have never generated a sale.\n",
        "\n",
        "To simplify, we will use the term \"conversions\" to reference to these proportions.\n",
        "\n",
        "We'll generate a Contingency Table."
      ]
    },
    {
      "cell_type": "code",
      "execution_count": 407,
      "metadata": {},
      "outputs": [
        {
          "data": {
            "text/html": [
              "<div>\n",
              "<style scoped>\n",
              "    .dataframe tbody tr th:only-of-type {\n",
              "        vertical-align: middle;\n",
              "    }\n",
              "\n",
              "    .dataframe tbody tr th {\n",
              "        vertical-align: top;\n",
              "    }\n",
              "\n",
              "    .dataframe thead th {\n",
              "        text-align: right;\n",
              "    }\n",
              "</style>\n",
              "<table border=\"1\" class=\"dataframe\">\n",
              "  <thead>\n",
              "    <tr style=\"text-align: right;\">\n",
              "      <th></th>\n",
              "      <th>NO_SALE</th>\n",
              "      <th>SALE</th>\n",
              "    </tr>\n",
              "    <tr>\n",
              "      <th>VARIANT_NAME</th>\n",
              "      <th></th>\n",
              "      <th></th>\n",
              "    </tr>\n",
              "  </thead>\n",
              "  <tbody>\n",
              "    <tr>\n",
              "      <th>control</th>\n",
              "      <td>2337</td>\n",
              "      <td>52</td>\n",
              "    </tr>\n",
              "    <tr>\n",
              "      <th>variant</th>\n",
              "      <td>2351</td>\n",
              "      <td>42</td>\n",
              "    </tr>\n",
              "  </tbody>\n",
              "</table>\n",
              "</div>"
            ],
            "text/plain": [
              "              NO_SALE  SALE\n",
              "VARIANT_NAME               \n",
              "control          2337    52\n",
              "variant          2351    42"
            ]
          },
          "execution_count": 407,
          "metadata": {},
          "output_type": "execute_result"
        }
      ],
      "source": [
        "df_contingency_pt1 = df_grouped_users.loc[(df_grouped_users['SALE'] == 0), ['SALE', 'VARIANT_NAME']].groupby('VARIANT_NAME').count()\n",
        "df_contingency_pt1.rename(columns={'SALE': 'NO_SALE'}, inplace=True)\n",
        "\n",
        "df_contingency_pt2 = df_grouped_users[['SALE', 'VARIANT_NAME']].groupby('VARIANT_NAME').sum()\n",
        "df_contingency = pd.concat([df_contingency_pt1, df_contingency_pt2], axis=1)\n",
        "df_contingency"
      ]
    },
    {
      "cell_type": "code",
      "execution_count": 408,
      "metadata": {},
      "outputs": [
        {
          "name": "stdout",
          "output_type": "stream",
          "text": [
            "Control Proportion: 0.0218\n",
            "Variant Proportion: 0.0176\n",
            "Observed Difference: 0.0042\n"
          ]
        }
      ],
      "source": [
        "control_proportion = df_contingency.loc['control', 'SALE'] / df_contingency.loc['control'].sum()\n",
        "variant_proportion = df_contingency.loc['variant', 'SALE'] / df_contingency.loc['variant'].sum()\n",
        "observed_difference = control_proportion - variant_proportion\n",
        "\n",
        "print(f'Control Proportion: {control_proportion:.4f}')\n",
        "print(f'Variant Proportion: {variant_proportion:.4f}')\n",
        "print(f'Observed Difference: {observed_difference:.4f}')"
      ]
    },
    {
      "attachments": {},
      "cell_type": "markdown",
      "metadata": {},
      "source": [
        "Based on the calculations for the proportion of conversion of  of each group, we make the hypothesis that the variant group generates less conversions than the control group on average.\n",
        "\n",
        "Null Hypothesis (H0) = No difference in proportion of conversions. (control_proportion - variant_proportion = 0)\n",
        "\n",
        "Alternative Hypothesis (H1) = Variant group generates less proportion of conversions / Difference between control and variant proportion of conversions is positive. (control_proportion - variant_proportion > 0)"
      ]
    },
    {
      "attachments": {},
      "cell_type": "markdown",
      "metadata": {},
      "source": [
        "<a name=\"PERMUTATION-SALES\"></a>\n",
        "### Permutation test"
      ]
    },
    {
      "attachments": {},
      "cell_type": "markdown",
      "metadata": {},
      "source": [
        "Permutation test is closer to a one-size-fits-all approach to inference because it doesn't need assumptions about the data. The counterpart is that if the data is big enough, it could be computational expensive."
      ]
    },
    {
      "cell_type": "code",
      "execution_count": 409,
      "metadata": {},
      "outputs": [
        {
          "name": "stdout",
          "output_type": "stream",
          "text": [
            "p-value: 0.1784\n"
          ]
        },
        {
          "data": {
            "image/png": "[encoded data removed]",
            "text/plain": [
              "<Figure size 500x500 with 1 Axes>"
            ]
          },
          "metadata": {},
          "output_type": "display_data"
        }
      ],
      "source": [
        "def statistic(x, y, axis):\n",
        "    return np.mean(x, axis=axis) - np.mean(y, axis=axis)\n",
        "\n",
        "permutation_results = stats.permutation_test(\n",
        "    (df_grouped_users[df_grouped_users['VARIANT_NAME'] == 'control']['SALE'], df_grouped_users[df_grouped_users['VARIANT_NAME'] == 'variant']['SALE']),\n",
        "    statistic,\n",
        "    vectorized=True,\n",
        "    n_resamples=2000,    \n",
        "    alternative='greater'\n",
        "    )\n",
        "\n",
        "print(f'p-value: {permutation_results.pvalue:.4f}')\n",
        "\n",
        "\n",
        "fig, ax = plt.subplots(figsize=(5, 5))\n",
        "ax.hist(permutation_results.null_distribution, bins=11, rwidth=0.85)\n",
        "ax.axvline(x = observed_difference, color='red', label='Observed difference')\n",
        "ax.set_xlabel('Proportions of conversions differences')\n",
        "ax.set_ylabel('Frequency')\n",
        "\n",
        "ax.legend();\n",
        "plt.show()"
      ]
    },
    {
      "cell_type": "code",
      "execution_count": 410,
      "metadata": {},
      "outputs": [
        {
          "data": {
            "text/html": [
              "<div>\n",
              "<style scoped>\n",
              "    .dataframe tbody tr th:only-of-type {\n",
              "        vertical-align: middle;\n",
              "    }\n",
              "\n",
              "    .dataframe tbody tr th {\n",
              "        vertical-align: top;\n",
              "    }\n",
              "\n",
              "    .dataframe thead th {\n",
              "        text-align: right;\n",
              "    }\n",
              "</style>\n",
              "<table border=\"1\" class=\"dataframe\">\n",
              "  <thead>\n",
              "    <tr style=\"text-align: right;\">\n",
              "      <th></th>\n",
              "      <th>test_for</th>\n",
              "      <th>test_type</th>\n",
              "      <th>H0</th>\n",
              "      <th>H1</th>\n",
              "      <th>pvalue</th>\n",
              "      <th>results</th>\n",
              "      <th>results_details</th>\n",
              "    </tr>\n",
              "  </thead>\n",
              "  <tbody>\n",
              "    <tr>\n",
              "      <th>0</th>\n",
              "      <td>Difference in proportion of conversions</td>\n",
              "      <td>Permutation Test</td>\n",
              "      <td>No difference on proportions of conversions</td>\n",
              "      <td>Proportions of conversions on Variant group is lower</td>\n",
              "      <td>0.178411</td>\n",
              "      <td>Fail to reject the Null Hypothesis</td>\n",
              "      <td>Seems like there is no difference between Control and Variant groups on proportion of conversions</td>\n",
              "    </tr>\n",
              "  </tbody>\n",
              "</table>\n",
              "</div>"
            ],
            "text/plain": [
              "                                  test_for         test_type   \n",
              "0  Difference in proportion of conversions  Permutation Test  \\\n",
              "\n",
              "                                            H0   \n",
              "0  No difference on proportions of conversions  \\\n",
              "\n",
              "                                                     H1    pvalue   \n",
              "0  Proportions of conversions on Variant group is lower  0.178411  \\\n",
              "\n",
              "                              results   \n",
              "0  Fail to reject the Null Hypothesis  \\\n",
              "\n",
              "                                                                                     results_details  \n",
              "0  Seems like there is no difference between Control and Variant groups on proportion of conversions  "
            ]
          },
          "execution_count": 410,
          "metadata": {},
          "output_type": "execute_result"
        }
      ],
      "source": [
        "if permutation_results.pvalue >= 0.05:\n",
        "    results_hypothesis = \"Fail to reject the Null Hypothesis\"\n",
        "    results_hypothesis_details = \"Seems like there is no difference between Control and Variant groups on proportion of conversions\"\n",
        "else:\n",
        "    results_hypothesis = \"Reject the Null Hypothesis\"\n",
        "    results_hypothesis_details = \"Seems like Variant group generates less proportion of conversions\"\n",
        "\n",
        "df_results_proportion_diff_permutation = pd.DataFrame({\n",
        "    'test_for': \"Difference in proportion of conversions\",\n",
        "    'test_type': \"Permutation Test\",\n",
        "    'H0': \"No difference on proportions of conversions\",\n",
        "    'H1': \"Proportions of conversions on Variant group is lower\",\n",
        "    'pvalue': [permutation_results.pvalue],\n",
        "    'results': results_hypothesis,\n",
        "    'results_details': results_hypothesis_details\n",
        "})\n",
        "\n",
        "df_results = pd.concat([df_results, df_results_proportion_diff_permutation])\n",
        "\n",
        "df_results_proportion_diff_permutation"
      ]
    },
    {
      "attachments": {},
      "cell_type": "markdown",
      "metadata": {},
      "source": [
        "<a name=\"Z-TEST\"></a>\n",
        "### Z-test"
      ]
    },
    {
      "attachments": {},
      "cell_type": "markdown",
      "metadata": {},
      "source": [
        "In a similar manner to the t-test, the z-test assumes that the data follows a normal distribution. And just like before, we can utilize the Central Limit Theorem (CLT) because the sample size is large enough to rely on its assumptions and use this test."
      ]
    },
    {
      "cell_type": "code",
      "execution_count": 411,
      "metadata": {},
      "outputs": [
        {
          "name": "stdout",
          "output_type": "stream",
          "text": [
            "p-value: 0.1488\n"
          ]
        }
      ],
      "source": [
        "n_sales = df_contingency['SALE'].values\n",
        "n_rows = np.array(df_contingency.sum(axis=1)['control'], df_contingency.sum(axis=1)['variant'])\n",
        "ztest_results = proportions_ztest(count=n_sales, nobs=n_rows, alternative='larger')\n",
        "\n",
        "print(f'p-value: {ztest_results[1]:.4f}')\n"
      ]
    },
    {
      "cell_type": "code",
      "execution_count": 412,
      "metadata": {},
      "outputs": [
        {
          "data": {
            "text/html": [
              "<div>\n",
              "<style scoped>\n",
              "    .dataframe tbody tr th:only-of-type {\n",
              "        vertical-align: middle;\n",
              "    }\n",
              "\n",
              "    .dataframe tbody tr th {\n",
              "        vertical-align: top;\n",
              "    }\n",
              "\n",
              "    .dataframe thead th {\n",
              "        text-align: right;\n",
              "    }\n",
              "</style>\n",
              "<table border=\"1\" class=\"dataframe\">\n",
              "  <thead>\n",
              "    <tr style=\"text-align: right;\">\n",
              "      <th></th>\n",
              "      <th>test_for</th>\n",
              "      <th>test_type</th>\n",
              "      <th>H0</th>\n",
              "      <th>H1</th>\n",
              "      <th>pvalue</th>\n",
              "      <th>results</th>\n",
              "      <th>results_details</th>\n",
              "    </tr>\n",
              "  </thead>\n",
              "  <tbody>\n",
              "    <tr>\n",
              "      <th>0</th>\n",
              "      <td>Difference in proportion of conversions</td>\n",
              "      <td>Z-Test</td>\n",
              "      <td>No difference on proportions of conversions</td>\n",
              "      <td>Proportions of conversions on Variant group is lower</td>\n",
              "      <td>0.148771</td>\n",
              "      <td>Fail to reject the Null Hypothesis</td>\n",
              "      <td>Seems like there is no difference between Control and Variant groups on proportion of conversions</td>\n",
              "    </tr>\n",
              "  </tbody>\n",
              "</table>\n",
              "</div>"
            ],
            "text/plain": [
              "                                  test_for test_type   \n",
              "0  Difference in proportion of conversions    Z-Test  \\\n",
              "\n",
              "                                            H0   \n",
              "0  No difference on proportions of conversions  \\\n",
              "\n",
              "                                                     H1    pvalue   \n",
              "0  Proportions of conversions on Variant group is lower  0.148771  \\\n",
              "\n",
              "                              results   \n",
              "0  Fail to reject the Null Hypothesis  \\\n",
              "\n",
              "                                                                                     results_details  \n",
              "0  Seems like there is no difference between Control and Variant groups on proportion of conversions  "
            ]
          },
          "execution_count": 412,
          "metadata": {},
          "output_type": "execute_result"
        }
      ],
      "source": [
        "if ztest_results[1] >= 0.05:\n",
        "    results_hypothesis = \"Fail to reject the Null Hypothesis\"\n",
        "    results_hypothesis_details = \"Seems like there is no difference between Control and Variant groups on proportion of conversions\"\n",
        "else:\n",
        "    results_hypothesis = \"Reject the Null Hypothesis\"\n",
        "    results_hypothesis_details = \"Seems like Variant group generates less proportion of conversions\"\n",
        "\n",
        "df_results_proportion_diff_ztest = pd.DataFrame({\n",
        "    'test_for': \"Difference in proportion of conversions\",\n",
        "    'test_type': \"Z-Test\",\n",
        "    'H0': \"No difference on proportions of conversions\",\n",
        "    'H1': \"Proportions of conversions on Variant group is lower\",\n",
        "    'pvalue': [ztest_results[1]],\n",
        "    'results': results_hypothesis,\n",
        "    'results_details': results_hypothesis_details\n",
        "})\n",
        "\n",
        "df_results = pd.concat([df_results, df_results_proportion_diff_ztest])\n",
        "\n",
        "df_results_proportion_diff_ztest"
      ]
    },
    {
      "attachments": {},
      "cell_type": "markdown",
      "metadata": {},
      "source": [
        "<a name=\"TEST-INDEPENDENCE\"></a>\n",
        "### Test of independence"
      ]
    },
    {
      "attachments": {},
      "cell_type": "markdown",
      "metadata": {},
      "source": [
        "We already have sufficient information to make conclusions about the hypotheses stated before. However, for the sake of curiosity and to explore additional tests in this Notebook, we will conduct a test of independence between the variables in the two groups.\n",
        "\n",
        "Null Hypothesis (H0) = The proportions of conversions are independent between the Control and Variant groups (control_proportion - variant_proportion = 0).\n",
        "\n",
        "Alternative Hypothesis (H1) = The proportions of conversions are not independent between the Control and Variant groups (control_proportion != variant_proportion)."
      ]
    },
    {
      "attachments": {},
      "cell_type": "markdown",
      "metadata": {},
      "source": [
        "<a name=\"CHI-SQUARE\"></a>\n",
        "### Chi-Square"
      ]
    },
    {
      "cell_type": "code",
      "execution_count": 413,
      "metadata": {},
      "outputs": [
        {
          "data": {
            "text/html": [
              "<div>\n",
              "<style scoped>\n",
              "    .dataframe tbody tr th:only-of-type {\n",
              "        vertical-align: middle;\n",
              "    }\n",
              "\n",
              "    .dataframe tbody tr th {\n",
              "        vertical-align: top;\n",
              "    }\n",
              "\n",
              "    .dataframe thead th {\n",
              "        text-align: right;\n",
              "    }\n",
              "</style>\n",
              "<table border=\"1\" class=\"dataframe\">\n",
              "  <thead>\n",
              "    <tr style=\"text-align: right;\">\n",
              "      <th></th>\n",
              "      <th>NO_SALE</th>\n",
              "      <th>SALE</th>\n",
              "    </tr>\n",
              "    <tr>\n",
              "      <th>VARIANT_NAME</th>\n",
              "      <th></th>\n",
              "      <th></th>\n",
              "    </tr>\n",
              "  </thead>\n",
              "  <tbody>\n",
              "    <tr>\n",
              "      <th>control</th>\n",
              "      <td>2337</td>\n",
              "      <td>52</td>\n",
              "    </tr>\n",
              "    <tr>\n",
              "      <th>variant</th>\n",
              "      <td>2351</td>\n",
              "      <td>42</td>\n",
              "    </tr>\n",
              "  </tbody>\n",
              "</table>\n",
              "</div>"
            ],
            "text/plain": [
              "              NO_SALE  SALE\n",
              "VARIANT_NAME               \n",
              "control          2337    52\n",
              "variant          2351    42"
            ]
          },
          "execution_count": 413,
          "metadata": {},
          "output_type": "execute_result"
        }
      ],
      "source": [
        "df_contingency"
      ]
    },
    {
      "cell_type": "code",
      "execution_count": 414,
      "metadata": {},
      "outputs": [
        {
          "name": "stdout",
          "output_type": "stream",
          "text": [
            "p-value: 0.3443\n"
          ]
        }
      ],
      "source": [
        "chi2_results = stats.chi2_contingency(df_contingency)\n",
        "print(f'p-value: {chi2_results.pvalue:.4f}')"
      ]
    },
    {
      "cell_type": "code",
      "execution_count": 415,
      "metadata": {},
      "outputs": [
        {
          "data": {
            "text/html": [
              "<div>\n",
              "<style scoped>\n",
              "    .dataframe tbody tr th:only-of-type {\n",
              "        vertical-align: middle;\n",
              "    }\n",
              "\n",
              "    .dataframe tbody tr th {\n",
              "        vertical-align: top;\n",
              "    }\n",
              "\n",
              "    .dataframe thead th {\n",
              "        text-align: right;\n",
              "    }\n",
              "</style>\n",
              "<table border=\"1\" class=\"dataframe\">\n",
              "  <thead>\n",
              "    <tr style=\"text-align: right;\">\n",
              "      <th></th>\n",
              "      <th>test_for</th>\n",
              "      <th>test_type</th>\n",
              "      <th>H0</th>\n",
              "      <th>H1</th>\n",
              "      <th>pvalue</th>\n",
              "      <th>results</th>\n",
              "      <th>results_details</th>\n",
              "    </tr>\n",
              "  </thead>\n",
              "  <tbody>\n",
              "    <tr>\n",
              "      <th>0</th>\n",
              "      <td>Independence of conversions between groups</td>\n",
              "      <td>Chi-square Test</td>\n",
              "      <td>The proportions of conversions are independent between the groups</td>\n",
              "      <td>The proportions of conversions are not independent between the groups</td>\n",
              "      <td>0.344286</td>\n",
              "      <td>Fail to reject the Null Hypothesis</td>\n",
              "      <td>Seems like the proportions of conversions are independent between the Control and Variant groups</td>\n",
              "    </tr>\n",
              "  </tbody>\n",
              "</table>\n",
              "</div>"
            ],
            "text/plain": [
              "                                     test_for        test_type   \n",
              "0  Independence of conversions between groups  Chi-square Test  \\\n",
              "\n",
              "                                                                  H0   \n",
              "0  The proportions of conversions are independent between the groups  \\\n",
              "\n",
              "                                                                      H1   \n",
              "0  The proportions of conversions are not independent between the groups  \\\n",
              "\n",
              "     pvalue                             results   \n",
              "0  0.344286  Fail to reject the Null Hypothesis  \\\n",
              "\n",
              "                                                                                    results_details  \n",
              "0  Seems like the proportions of conversions are independent between the Control and Variant groups  "
            ]
          },
          "execution_count": 415,
          "metadata": {},
          "output_type": "execute_result"
        }
      ],
      "source": [
        "if chi2_results.pvalue >= 0.05:\n",
        "    results_hypothesis = \"Fail to reject the Null Hypothesis\"\n",
        "    results_hypothesis_details = \"Seems like the proportions of conversions are independent between the Control and Variant groups\"\n",
        "else:\n",
        "    results_hypothesis = \"Reject the Null Hypothesis\"\n",
        "    results_hypothesis_details = \"Seems like the proportions of conversions are not independent between the Control and Variant groups\"\n",
        "\n",
        "df_results_proportion_diff_chi2 = pd.DataFrame({\n",
        "    'test_for': \"Independence of conversions between groups\",\n",
        "    'test_type': \"Chi-square Test\",\n",
        "    'H0': \"The proportions of conversions are independent between the groups\",\n",
        "    'H1': \"The proportions of conversions are not independent between the groups\",\n",
        "    'pvalue': [chi2_results.pvalue],\n",
        "    'results': results_hypothesis,\n",
        "    'results_details': results_hypothesis_details\n",
        "})\n",
        "\n",
        "df_results = pd.concat([df_results, df_results_proportion_diff_chi2])\n",
        "\n",
        "df_results_proportion_diff_chi2"
      ]
    },
    {
      "attachments": {},
      "cell_type": "markdown",
      "metadata": {},
      "source": [
        "<a name=\"FISHER-EXACT-TEST\"></a>\n",
        "### Fisher's Exact Test"
      ]
    },
    {
      "attachments": {},
      "cell_type": "markdown",
      "metadata": {},
      "source": [
        "Because we have very small proportions, it is more appropriate to do a Fisher's Exact test instead of a Chi-Square test."
      ]
    },
    {
      "cell_type": "code",
      "execution_count": 416,
      "metadata": {},
      "outputs": [
        {
          "data": {
            "text/html": [
              "<div>\n",
              "<style scoped>\n",
              "    .dataframe tbody tr th:only-of-type {\n",
              "        vertical-align: middle;\n",
              "    }\n",
              "\n",
              "    .dataframe tbody tr th {\n",
              "        vertical-align: top;\n",
              "    }\n",
              "\n",
              "    .dataframe thead th {\n",
              "        text-align: right;\n",
              "    }\n",
              "</style>\n",
              "<table border=\"1\" class=\"dataframe\">\n",
              "  <thead>\n",
              "    <tr style=\"text-align: right;\">\n",
              "      <th></th>\n",
              "      <th>NO_SALE</th>\n",
              "      <th>SALE</th>\n",
              "    </tr>\n",
              "    <tr>\n",
              "      <th>VARIANT_NAME</th>\n",
              "      <th></th>\n",
              "      <th></th>\n",
              "    </tr>\n",
              "  </thead>\n",
              "  <tbody>\n",
              "    <tr>\n",
              "      <th>control</th>\n",
              "      <td>2337</td>\n",
              "      <td>52</td>\n",
              "    </tr>\n",
              "    <tr>\n",
              "      <th>variant</th>\n",
              "      <td>2351</td>\n",
              "      <td>42</td>\n",
              "    </tr>\n",
              "  </tbody>\n",
              "</table>\n",
              "</div>"
            ],
            "text/plain": [
              "              NO_SALE  SALE\n",
              "VARIANT_NAME               \n",
              "control          2337    52\n",
              "variant          2351    42"
            ]
          },
          "execution_count": 416,
          "metadata": {},
          "output_type": "execute_result"
        }
      ],
      "source": [
        "df_contingency"
      ]
    },
    {
      "cell_type": "code",
      "execution_count": 417,
      "metadata": {},
      "outputs": [
        {
          "name": "stdout",
          "output_type": "stream",
          "text": [
            "p-value: 0.2997\n"
          ]
        }
      ],
      "source": [
        "fisherexact_results = stats.fisher_exact(df_contingency)\n",
        "\n",
        "print(f'p-value: {fisherexact_results.pvalue:.4f}')"
      ]
    },
    {
      "cell_type": "code",
      "execution_count": 418,
      "metadata": {},
      "outputs": [
        {
          "data": {
            "text/html": [
              "<div>\n",
              "<style scoped>\n",
              "    .dataframe tbody tr th:only-of-type {\n",
              "        vertical-align: middle;\n",
              "    }\n",
              "\n",
              "    .dataframe tbody tr th {\n",
              "        vertical-align: top;\n",
              "    }\n",
              "\n",
              "    .dataframe thead th {\n",
              "        text-align: right;\n",
              "    }\n",
              "</style>\n",
              "<table border=\"1\" class=\"dataframe\">\n",
              "  <thead>\n",
              "    <tr style=\"text-align: right;\">\n",
              "      <th></th>\n",
              "      <th>test_for</th>\n",
              "      <th>test_type</th>\n",
              "      <th>H0</th>\n",
              "      <th>H1</th>\n",
              "      <th>pvalue</th>\n",
              "      <th>results</th>\n",
              "      <th>results_details</th>\n",
              "    </tr>\n",
              "  </thead>\n",
              "  <tbody>\n",
              "    <tr>\n",
              "      <th>0</th>\n",
              "      <td>Independence of conversions between groups</td>\n",
              "      <td>Fisher's exact Test</td>\n",
              "      <td>The proportions of conversions are independent between groups</td>\n",
              "      <td>The proportions of conversions are not independent between groups</td>\n",
              "      <td>0.299733</td>\n",
              "      <td>Fail to reject the Null Hypothesis</td>\n",
              "      <td>Seems like the proportions of conversions are independent between the Control and Variant groups</td>\n",
              "    </tr>\n",
              "  </tbody>\n",
              "</table>\n",
              "</div>"
            ],
            "text/plain": [
              "                                     test_for            test_type   \n",
              "0  Independence of conversions between groups  Fisher's exact Test  \\\n",
              "\n",
              "                                                              H0   \n",
              "0  The proportions of conversions are independent between groups  \\\n",
              "\n",
              "                                                                  H1   \n",
              "0  The proportions of conversions are not independent between groups  \\\n",
              "\n",
              "     pvalue                             results   \n",
              "0  0.299733  Fail to reject the Null Hypothesis  \\\n",
              "\n",
              "                                                                                    results_details  \n",
              "0  Seems like the proportions of conversions are independent between the Control and Variant groups  "
            ]
          },
          "execution_count": 418,
          "metadata": {},
          "output_type": "execute_result"
        }
      ],
      "source": [
        "if fisherexact_results.pvalue >= 0.05:\n",
        "    results_hypothesis = \"Fail to reject the Null Hypothesis\"\n",
        "    results_hypothesis_details = \"Seems like the proportions of conversions are independent between the Control and Variant groups\"\n",
        "else:\n",
        "    results_hypothesis = \"Reject the Null Hypothesis\"\n",
        "    results_hypothesis_details = \"Seems like the proportions of conversions are not independent between the Control and Variant groups\"\n",
        "\n",
        "df_results_proportion_diff_fisherexact = pd.DataFrame({\n",
        "    'test_for': \"Independence of conversions between groups\",\n",
        "    'test_type': \"Fisher's exact Test\",\n",
        "    'H0': \"The proportions of conversions are independent between groups\",\n",
        "    'H1': \"The proportions of conversions are not independent between groups\",\n",
        "    'pvalue': [fisherexact_results.pvalue],\n",
        "    'results': results_hypothesis,\n",
        "    'results_details': results_hypothesis_details\n",
        "})\n",
        "\n",
        "df_results = pd.concat([df_results, df_results_proportion_diff_fisherexact])\n",
        "\n",
        "df_results_proportion_diff_fisherexact"
      ]
    },
    {
      "attachments": {},
      "cell_type": "markdown",
      "metadata": {},
      "source": [
        "<a name=\"CONCLUSIONS\"></a>\n",
        "## CONCLUSIONS"
      ]
    },
    {
      "attachments": {},
      "cell_type": "markdown",
      "metadata": {},
      "source": [
        "We performed different test to reject or fail to reject the null hypothesis on different cases."
      ]
    },
    {
      "cell_type": "code",
      "execution_count": 419,
      "metadata": {},
      "outputs": [
        {
          "data": {
            "text/html": [
              "<div>\n",
              "<style scoped>\n",
              "    .dataframe tbody tr th:only-of-type {\n",
              "        vertical-align: middle;\n",
              "    }\n",
              "\n",
              "    .dataframe tbody tr th {\n",
              "        vertical-align: top;\n",
              "    }\n",
              "\n",
              "    .dataframe thead th {\n",
              "        text-align: right;\n",
              "    }\n",
              "</style>\n",
              "<table border=\"1\" class=\"dataframe\">\n",
              "  <thead>\n",
              "    <tr style=\"text-align: right;\">\n",
              "      <th></th>\n",
              "      <th>test_for</th>\n",
              "      <th>test_type</th>\n",
              "      <th>H0</th>\n",
              "      <th>H1</th>\n",
              "      <th>pvalue</th>\n",
              "      <th>results</th>\n",
              "      <th>results_details</th>\n",
              "    </tr>\n",
              "  </thead>\n",
              "  <tbody>\n",
              "    <tr>\n",
              "      <th>0</th>\n",
              "      <td>Difference in Revenue means</td>\n",
              "      <td>Permutation Test</td>\n",
              "      <td>No difference on Revenue means</td>\n",
              "      <td>Mean Revenue on Variant group is lower</td>\n",
              "      <td>0.155900</td>\n",
              "      <td>Fail to reject the Null Hypothesis</td>\n",
              "      <td>Seems like there is no difference between Control and Variant groups on Revenue means</td>\n",
              "    </tr>\n",
              "    <tr>\n",
              "      <th>1</th>\n",
              "      <td>Difference in Revenue means</td>\n",
              "      <td>T-Test</td>\n",
              "      <td>No difference on Revenue means</td>\n",
              "      <td>Mean Revenue on Variant group is lower</td>\n",
              "      <td>0.151482</td>\n",
              "      <td>Fail to reject the Null Hypothesis</td>\n",
              "      <td>Seems like there is no difference between Control and Variant groups on Revenue means</td>\n",
              "    </tr>\n",
              "    <tr>\n",
              "      <th>2</th>\n",
              "      <td>Difference in Revenue means</td>\n",
              "      <td>Mann-Whitney U rank Test</td>\n",
              "      <td>No difference on Revenue means</td>\n",
              "      <td>Mean Revenue on Variant group is lower</td>\n",
              "      <td>0.145674</td>\n",
              "      <td>Fail to reject the Null Hypothesis</td>\n",
              "      <td>Seems like there is no difference between Control and Variant groups on Revenue means</td>\n",
              "    </tr>\n",
              "    <tr>\n",
              "      <th>3</th>\n",
              "      <td>Difference in proportion of conversions</td>\n",
              "      <td>Permutation Test</td>\n",
              "      <td>No difference on proportions of conversions</td>\n",
              "      <td>Proportions of conversions on Variant group is lower</td>\n",
              "      <td>0.178411</td>\n",
              "      <td>Fail to reject the Null Hypothesis</td>\n",
              "      <td>Seems like there is no difference between Control and Variant groups on proportion of conversions</td>\n",
              "    </tr>\n",
              "    <tr>\n",
              "      <th>4</th>\n",
              "      <td>Difference in proportion of conversions</td>\n",
              "      <td>Z-Test</td>\n",
              "      <td>No difference on proportions of conversions</td>\n",
              "      <td>Proportions of conversions on Variant group is lower</td>\n",
              "      <td>0.148771</td>\n",
              "      <td>Fail to reject the Null Hypothesis</td>\n",
              "      <td>Seems like there is no difference between Control and Variant groups on proportion of conversions</td>\n",
              "    </tr>\n",
              "    <tr>\n",
              "      <th>5</th>\n",
              "      <td>Independence of conversions between groups</td>\n",
              "      <td>Chi-square Test</td>\n",
              "      <td>The proportions of conversions are independent between the groups</td>\n",
              "      <td>The proportions of conversions are not independent between the groups</td>\n",
              "      <td>0.344286</td>\n",
              "      <td>Fail to reject the Null Hypothesis</td>\n",
              "      <td>Seems like the proportions of conversions are independent between the Control and Variant groups</td>\n",
              "    </tr>\n",
              "    <tr>\n",
              "      <th>6</th>\n",
              "      <td>Independence of conversions between groups</td>\n",
              "      <td>Fisher's exact Test</td>\n",
              "      <td>The proportions of conversions are independent between groups</td>\n",
              "      <td>The proportions of conversions are not independent between groups</td>\n",
              "      <td>0.299733</td>\n",
              "      <td>Fail to reject the Null Hypothesis</td>\n",
              "      <td>Seems like the proportions of conversions are independent between the Control and Variant groups</td>\n",
              "    </tr>\n",
              "  </tbody>\n",
              "</table>\n",
              "</div>"
            ],
            "text/plain": [
              "                                     test_for                 test_type   \n",
              "0                 Difference in Revenue means          Permutation Test  \\\n",
              "1                 Difference in Revenue means                    T-Test   \n",
              "2                 Difference in Revenue means  Mann-Whitney U rank Test   \n",
              "3     Difference in proportion of conversions          Permutation Test   \n",
              "4     Difference in proportion of conversions                    Z-Test   \n",
              "5  Independence of conversions between groups           Chi-square Test   \n",
              "6  Independence of conversions between groups       Fisher's exact Test   \n",
              "\n",
              "                                                                  H0   \n",
              "0                                     No difference on Revenue means  \\\n",
              "1                                     No difference on Revenue means   \n",
              "2                                     No difference on Revenue means   \n",
              "3                        No difference on proportions of conversions   \n",
              "4                        No difference on proportions of conversions   \n",
              "5  The proportions of conversions are independent between the groups   \n",
              "6      The proportions of conversions are independent between groups   \n",
              "\n",
              "                                                                      H1   \n",
              "0                                 Mean Revenue on Variant group is lower  \\\n",
              "1                                 Mean Revenue on Variant group is lower   \n",
              "2                                 Mean Revenue on Variant group is lower   \n",
              "3                   Proportions of conversions on Variant group is lower   \n",
              "4                   Proportions of conversions on Variant group is lower   \n",
              "5  The proportions of conversions are not independent between the groups   \n",
              "6      The proportions of conversions are not independent between groups   \n",
              "\n",
              "     pvalue                             results   \n",
              "0  0.155900  Fail to reject the Null Hypothesis  \\\n",
              "1  0.151482  Fail to reject the Null Hypothesis   \n",
              "2  0.145674  Fail to reject the Null Hypothesis   \n",
              "3  0.178411  Fail to reject the Null Hypothesis   \n",
              "4  0.148771  Fail to reject the Null Hypothesis   \n",
              "5  0.344286  Fail to reject the Null Hypothesis   \n",
              "6  0.299733  Fail to reject the Null Hypothesis   \n",
              "\n",
              "                                                                                     results_details  \n",
              "0              Seems like there is no difference between Control and Variant groups on Revenue means  \n",
              "1              Seems like there is no difference between Control and Variant groups on Revenue means  \n",
              "2              Seems like there is no difference between Control and Variant groups on Revenue means  \n",
              "3  Seems like there is no difference between Control and Variant groups on proportion of conversions  \n",
              "4  Seems like there is no difference between Control and Variant groups on proportion of conversions  \n",
              "5   Seems like the proportions of conversions are independent between the Control and Variant groups  \n",
              "6   Seems like the proportions of conversions are independent between the Control and Variant groups  "
            ]
          },
          "execution_count": 419,
          "metadata": {},
          "output_type": "execute_result"
        }
      ],
      "source": [
        "df_results.reset_index(drop=True)"
      ]
    },
    {
      "attachments": {},
      "cell_type": "markdown",
      "metadata": {},
      "source": [
        "Overall, we can conclude that:\n",
        "- There is no significant evidence to suggest that Variant group generates less revenue on average than Control group.\n",
        "- There is no significant evidence to suggest that the proportion of convertions on Variant group is lower than Control group.\n",
        "- There is no significant evidence to suggest that the proportions of conversions are dependent between the Control and Variant groups.\n",
        "- Although the data does not strictly met the underlying assumptions required for some of the tests, they all produced similar p-values.\n"
      ]
    }
  ],
  "metadata": {
    "colab": {
      "provenance": []
    },
    "kernelspec": {
      "display_name": "Python 3",
      "name": "python3"
    },
    "language_info": {
      "codemirror_mode": {
        "name": "ipython",
        "version": 3
      },
      "file_extension": ".py",
      "mimetype": "text/x-python",
      "name": "python",
      "nbconvert_exporter": "python",
      "pygments_lexer": "ipython3",
      "version": "3.8.10"
    }
  },
  "nbformat": 4,
  "nbformat_minor": 0
}
