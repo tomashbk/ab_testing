{
  "cells": [
    {
      "attachments": {},
      "cell_type": "markdown",
      "metadata": {},
      "source": [
        "# Start"
      ]
    },
    {
      "cell_type": "code",
      "execution_count": 116,
      "metadata": {
        "id": "TrfTq0EWS9wP"
      },
      "outputs": [],
      "source": [
        "import numpy as np\n",
        "import pandas as pd\n",
        "import matplotlib.pyplot as plt\n",
        "import seaborn as sns\n",
        "import random\n",
        "from scipy import stats\n",
        "from statsmodels.stats.proportion import proportions_ztest"
      ]
    },
    {
      "cell_type": "code",
      "execution_count": 117,
      "metadata": {
        "colab": {
          "base_uri": "https://localhost:8080/",
          "height": 206
        },
        "id": "ezc1dDLmc2_c",
        "outputId": "b58ef12d-1e10-4ee0-bef6-b9f5de902fc7"
      },
      "outputs": [
        {
          "data": {
            "text/html": [
              "<div>\n",
              "<style scoped>\n",
              "    .dataframe tbody tr th:only-of-type {\n",
              "        vertical-align: middle;\n",
              "    }\n",
              "\n",
              "    .dataframe tbody tr th {\n",
              "        vertical-align: top;\n",
              "    }\n",
              "\n",
              "    .dataframe thead th {\n",
              "        text-align: right;\n",
              "    }\n",
              "</style>\n",
              "<table border=\"1\" class=\"dataframe\">\n",
              "  <thead>\n",
              "    <tr style=\"text-align: right;\">\n",
              "      <th></th>\n",
              "      <th>USER_ID</th>\n",
              "      <th>VARIANT_NAME</th>\n",
              "      <th>REVENUE</th>\n",
              "    </tr>\n",
              "  </thead>\n",
              "  <tbody>\n",
              "    <tr>\n",
              "      <th>0</th>\n",
              "      <td>737</td>\n",
              "      <td>variant</td>\n",
              "      <td>0.0</td>\n",
              "    </tr>\n",
              "    <tr>\n",
              "      <th>1</th>\n",
              "      <td>2423</td>\n",
              "      <td>control</td>\n",
              "      <td>0.0</td>\n",
              "    </tr>\n",
              "    <tr>\n",
              "      <th>2</th>\n",
              "      <td>9411</td>\n",
              "      <td>control</td>\n",
              "      <td>0.0</td>\n",
              "    </tr>\n",
              "    <tr>\n",
              "      <th>3</th>\n",
              "      <td>7311</td>\n",
              "      <td>control</td>\n",
              "      <td>0.0</td>\n",
              "    </tr>\n",
              "    <tr>\n",
              "      <th>4</th>\n",
              "      <td>6174</td>\n",
              "      <td>variant</td>\n",
              "      <td>0.0</td>\n",
              "    </tr>\n",
              "  </tbody>\n",
              "</table>\n",
              "</div>"
            ],
            "text/plain": [
              "   USER_ID VARIANT_NAME  REVENUE\n",
              "0      737      variant      0.0\n",
              "1     2423      control      0.0\n",
              "2     9411      control      0.0\n",
              "3     7311      control      0.0\n",
              "4     6174      variant      0.0"
            ]
          },
          "execution_count": 117,
          "metadata": {},
          "output_type": "execute_result"
        }
      ],
      "source": [
        "df = pd.read_csv('AB_Test_Results.csv')\n",
        "df.head()"
      ]
    },
    {
      "cell_type": "code",
      "execution_count": 118,
      "metadata": {
        "colab": {
          "base_uri": "https://localhost:8080/"
        },
        "id": "IuzoDpE-c9VD",
        "outputId": "77d26f99-f801-4b52-ddcc-4a4cb9454924"
      },
      "outputs": [
        {
          "name": "stdout",
          "output_type": "stream",
          "text": [
            "<class 'pandas.core.frame.DataFrame'>\n",
            "RangeIndex: 10000 entries, 0 to 9999\n",
            "Data columns (total 3 columns):\n",
            " #   Column        Non-Null Count  Dtype  \n",
            "---  ------        --------------  -----  \n",
            " 0   USER_ID       10000 non-null  int64  \n",
            " 1   VARIANT_NAME  10000 non-null  object \n",
            " 2   REVENUE       10000 non-null  float64\n",
            "dtypes: float64(1), int64(1), object(1)\n",
            "memory usage: 234.5+ KB\n"
          ]
        }
      ],
      "source": [
        "df.info()"
      ]
    },
    {
      "cell_type": "code",
      "execution_count": 119,
      "metadata": {
        "colab": {
          "base_uri": "https://localhost:8080/",
          "height": 112
        },
        "id": "Hj5eKhDgc-Vi",
        "outputId": "ce5ae7b5-2a77-4446-cd26-3da1de5833a2"
      },
      "outputs": [
        {
          "data": {
            "text/html": [
              "<div>\n",
              "<style scoped>\n",
              "    .dataframe tbody tr th:only-of-type {\n",
              "        vertical-align: middle;\n",
              "    }\n",
              "\n",
              "    .dataframe tbody tr th {\n",
              "        vertical-align: top;\n",
              "    }\n",
              "\n",
              "    .dataframe thead th {\n",
              "        text-align: right;\n",
              "    }\n",
              "</style>\n",
              "<table border=\"1\" class=\"dataframe\">\n",
              "  <thead>\n",
              "    <tr style=\"text-align: right;\">\n",
              "      <th></th>\n",
              "      <th>count</th>\n",
              "      <th>mean</th>\n",
              "      <th>std</th>\n",
              "      <th>min</th>\n",
              "      <th>25%</th>\n",
              "      <th>50%</th>\n",
              "      <th>75%</th>\n",
              "      <th>max</th>\n",
              "    </tr>\n",
              "  </thead>\n",
              "  <tbody>\n",
              "    <tr>\n",
              "      <th>USER_ID</th>\n",
              "      <td>10000.0</td>\n",
              "      <td>4981.080200</td>\n",
              "      <td>2890.590115</td>\n",
              "      <td>2.0</td>\n",
              "      <td>2468.75</td>\n",
              "      <td>4962.0</td>\n",
              "      <td>7511.5</td>\n",
              "      <td>10000.00</td>\n",
              "    </tr>\n",
              "    <tr>\n",
              "      <th>REVENUE</th>\n",
              "      <td>10000.0</td>\n",
              "      <td>0.099447</td>\n",
              "      <td>2.318529</td>\n",
              "      <td>0.0</td>\n",
              "      <td>0.00</td>\n",
              "      <td>0.0</td>\n",
              "      <td>0.0</td>\n",
              "      <td>196.01</td>\n",
              "    </tr>\n",
              "  </tbody>\n",
              "</table>\n",
              "</div>"
            ],
            "text/plain": [
              "           count         mean          std  min      25%     50%     75%   \n",
              "USER_ID  10000.0  4981.080200  2890.590115  2.0  2468.75  4962.0  7511.5  \\\n",
              "REVENUE  10000.0     0.099447     2.318529  0.0     0.00     0.0     0.0   \n",
              "\n",
              "              max  \n",
              "USER_ID  10000.00  \n",
              "REVENUE    196.01  "
            ]
          },
          "execution_count": 119,
          "metadata": {},
          "output_type": "execute_result"
        }
      ],
      "source": [
        "df.describe().T"
      ]
    },
    {
      "cell_type": "code",
      "execution_count": 120,
      "metadata": {
        "colab": {
          "base_uri": "https://localhost:8080/"
        },
        "id": "6z9ucldBdAXy",
        "outputId": "f013ac8d-b151-445f-f7b1-9d4489d9d5fd"
      },
      "outputs": [
        {
          "data": {
            "text/plain": [
              "VARIANT_NAME\n",
              "variant    5016\n",
              "control    4984\n",
              "Name: count, dtype: int64"
            ]
          },
          "execution_count": 120,
          "metadata": {},
          "output_type": "execute_result"
        }
      ],
      "source": [
        "df['VARIANT_NAME'].value_counts()"
      ]
    },
    {
      "cell_type": "code",
      "execution_count": 121,
      "metadata": {
        "colab": {
          "base_uri": "https://localhost:8080/",
          "height": 466
        },
        "id": "QTIoIrQlf3JW",
        "outputId": "a007c795-521c-4c03-fdb5-1e0e0bdec3fe"
      },
      "outputs": [
        {
          "data": {
            "text/plain": [
              "<Axes: xlabel='VARIANT_NAME', ylabel='REVENUE'>"
            ]
          },
          "execution_count": 121,
          "metadata": {},
          "output_type": "execute_result"
        },
        {
          "data": {
            "image/png": "[encoded data removed]",
            "text/plain": [
              "<Figure size 640x480 with 1 Axes>"
            ]
          },
          "metadata": {},
          "output_type": "display_data"
        }
      ],
      "source": [
        "sns.boxenplot(\n",
        "  df[['VARIANT_NAME', 'REVENUE']], \n",
        "  x = \"VARIANT_NAME\",\n",
        "  y = 'REVENUE',\n",
        "  hue=\"VARIANT_NAME\", \n",
        "  palette='rocket'\n",
        ")"
      ]
    },
    {
      "attachments": {},
      "cell_type": "markdown",
      "metadata": {
        "id": "Sse5YGoTgDtQ"
      },
      "source": [
        "# Removing duplicates"
      ]
    },
    {
      "attachments": {},
      "cell_type": "markdown",
      "metadata": {
        "id": "7VKVdr8jlzHJ"
      },
      "source": [
        "We remove the users that are both Variant and Control."
      ]
    },
    {
      "cell_type": "code",
      "execution_count": 122,
      "metadata": {
        "id": "HfXejtDglnap"
      },
      "outputs": [],
      "source": [
        "# df[df.duplicated()]"
      ]
    },
    {
      "cell_type": "code",
      "execution_count": 123,
      "metadata": {
        "id": "PExzjfnTuVjA"
      },
      "outputs": [],
      "source": [
        "# #  remove USER_ID who have two groups\n",
        "\n",
        "# duplicates = (df.groupby(\"USER_ID\")[\"VARIANT_NAME\"].nunique() == 1)\n",
        "# duplicates = duplicates[duplicates]\n",
        "\n",
        "# # USER_ID_nunique data\n",
        "\n",
        "# df = df[df[\"USER_ID\"].isin(duplicates.index)]"
      ]
    },
    {
      "cell_type": "code",
      "execution_count": 124,
      "metadata": {
        "colab": {
          "base_uri": "https://localhost:8080/"
        },
        "id": "9t_pf4TfvVLv",
        "outputId": "5567ef28-3110-4f7a-f096-4764539b67d2"
      },
      "outputs": [
        {
          "data": {
            "text/plain": [
              "USER_ID\n",
              "2        1\n",
              "3        2\n",
              "4        1\n",
              "5        1\n",
              "6        1\n",
              "        ..\n",
              "9993     1\n",
              "9995     1\n",
              "9996     2\n",
              "9998     1\n",
              "10000    2\n",
              "Name: VARIANT_NAME, Length: 6324, dtype: int64"
            ]
          },
          "execution_count": 124,
          "metadata": {},
          "output_type": "execute_result"
        }
      ],
      "source": [
        "df.groupby(\"USER_ID\")[\"VARIANT_NAME\"].nunique()"
      ]
    },
    {
      "cell_type": "code",
      "execution_count": 125,
      "metadata": {
        "colab": {
          "base_uri": "https://localhost:8080/"
        },
        "id": "YKB9RpJDuoQH",
        "outputId": "499c4fb8-a7b2-4319-c890-2488736bf1db"
      },
      "outputs": [
        {
          "data": {
            "text/plain": [
              "USER_ID\n",
              "5652    6\n",
              "8359    6\n",
              "668     6\n",
              "9101    6\n",
              "4879    6\n",
              "       ..\n",
              "5455    1\n",
              "1399    1\n",
              "6967    1\n",
              "3156    1\n",
              "9468    1\n",
              "Name: count, Length: 6324, dtype: int64"
            ]
          },
          "execution_count": 125,
          "metadata": {},
          "output_type": "execute_result"
        }
      ],
      "source": [
        "df['USER_ID'].value_counts()"
      ]
    },
    {
      "cell_type": "code",
      "execution_count": 126,
      "metadata": {
        "colab": {
          "base_uri": "https://localhost:8080/"
        },
        "id": "Je2SXK9kuqWQ",
        "outputId": "a3785d2c-d84d-429f-e1ef-132e7005cd70"
      },
      "outputs": [
        {
          "name": "stdout",
          "output_type": "stream",
          "text": [
            "      USER_ID VARIANT_NAME  REVENUE\n",
            "2406        2      control      0.0\n",
            "3479        2      control      0.0\n",
            "7076        2      control      0.0\n",
            "      USER_ID VARIANT_NAME  REVENUE\n",
            "595      5652      control      0.0\n",
            "778      5652      control      0.0\n",
            "2880     5652      control      0.0\n",
            "6327     5652      control      0.0\n",
            "7248     5652      control      0.0\n",
            "7972     5652      control      0.0\n",
            "      USER_ID VARIANT_NAME  REVENUE\n",
            "2749     9995      variant      0.0\n",
            "5673     9995      variant      0.0\n"
          ]
        }
      ],
      "source": [
        "print(df[df['USER_ID']==2])\n",
        "print(df[df['USER_ID']==5652])\n",
        "print(df[df['USER_ID']==9995])"
      ]
    },
    {
      "cell_type": "code",
      "execution_count": 127,
      "metadata": {
        "id": "2iS_3izdmAbB"
      },
      "outputs": [],
      "source": [
        "# df.drop_duplicates(inplace=True)"
      ]
    },
    {
      "cell_type": "code",
      "execution_count": 128,
      "metadata": {
        "id": "w5XrcxoQi5C3"
      },
      "outputs": [],
      "source": [
        "# rows_to_keep = df['USER_ID'].value_counts()==1\n",
        "# rows_to_keep = rows_to_keep[rows_to_keep]\n",
        "# df = df[df['USER_ID'].isin(rows_to_keep.index)]\n",
        "\n",
        "rows_to_keep = (df.groupby(\"USER_ID\")[\"VARIANT_NAME\"].nunique() == 1)\n",
        "rows_to_keep = rows_to_keep[rows_to_keep]\n",
        "df = df[df['USER_ID'].isin(rows_to_keep.index)]"
      ]
    },
    {
      "cell_type": "code",
      "execution_count": 129,
      "metadata": {
        "colab": {
          "base_uri": "https://localhost:8080/",
          "height": 112
        },
        "id": "FAxqhi-9gGZB",
        "outputId": "012084a0-f5ba-41d2-e883-c9c9c0bc4c6f"
      },
      "outputs": [
        {
          "data": {
            "text/html": [
              "<div>\n",
              "<style scoped>\n",
              "    .dataframe tbody tr th:only-of-type {\n",
              "        vertical-align: middle;\n",
              "    }\n",
              "\n",
              "    .dataframe tbody tr th {\n",
              "        vertical-align: top;\n",
              "    }\n",
              "\n",
              "    .dataframe thead th {\n",
              "        text-align: right;\n",
              "    }\n",
              "</style>\n",
              "<table border=\"1\" class=\"dataframe\">\n",
              "  <thead>\n",
              "    <tr style=\"text-align: right;\">\n",
              "      <th></th>\n",
              "      <th>count</th>\n",
              "      <th>mean</th>\n",
              "      <th>std</th>\n",
              "      <th>min</th>\n",
              "      <th>25%</th>\n",
              "      <th>50%</th>\n",
              "      <th>75%</th>\n",
              "      <th>max</th>\n",
              "    </tr>\n",
              "  </thead>\n",
              "  <tbody>\n",
              "    <tr>\n",
              "      <th>USER_ID</th>\n",
              "      <td>6070.0</td>\n",
              "      <td>4983.664086</td>\n",
              "      <td>2897.990118</td>\n",
              "      <td>2.0</td>\n",
              "      <td>2472.25</td>\n",
              "      <td>4950.0</td>\n",
              "      <td>7501.0</td>\n",
              "      <td>9998.00</td>\n",
              "    </tr>\n",
              "    <tr>\n",
              "      <th>REVENUE</th>\n",
              "      <td>6070.0</td>\n",
              "      <td>0.107064</td>\n",
              "      <td>2.673501</td>\n",
              "      <td>0.0</td>\n",
              "      <td>0.00</td>\n",
              "      <td>0.0</td>\n",
              "      <td>0.0</td>\n",
              "      <td>196.01</td>\n",
              "    </tr>\n",
              "  </tbody>\n",
              "</table>\n",
              "</div>"
            ],
            "text/plain": [
              "          count         mean          std  min      25%     50%     75%   \n",
              "USER_ID  6070.0  4983.664086  2897.990118  2.0  2472.25  4950.0  7501.0  \\\n",
              "REVENUE  6070.0     0.107064     2.673501  0.0     0.00     0.0     0.0   \n",
              "\n",
              "             max  \n",
              "USER_ID  9998.00  \n",
              "REVENUE   196.01  "
            ]
          },
          "execution_count": 129,
          "metadata": {},
          "output_type": "execute_result"
        }
      ],
      "source": [
        "df.describe().T"
      ]
    },
    {
      "cell_type": "code",
      "execution_count": 130,
      "metadata": {
        "colab": {
          "base_uri": "https://localhost:8080/"
        },
        "id": "o66we9JLkLFJ",
        "outputId": "916f4246-5055-465e-f3a7-01e9e3173ccf"
      },
      "outputs": [
        {
          "data": {
            "text/plain": [
              "VARIANT_NAME\n",
              "variant    3044\n",
              "control    3026\n",
              "Name: count, dtype: int64"
            ]
          },
          "execution_count": 130,
          "metadata": {},
          "output_type": "execute_result"
        }
      ],
      "source": [
        "df['VARIANT_NAME'].value_counts()"
      ]
    },
    {
      "cell_type": "code",
      "execution_count": 131,
      "metadata": {
        "colab": {
          "base_uri": "https://localhost:8080/",
          "height": 466
        },
        "id": "CmzQxTnYaf48",
        "outputId": "7db2c8ee-e4ec-4d04-cbbf-828d0703ef85"
      },
      "outputs": [
        {
          "data": {
            "text/plain": [
              "<Axes: xlabel='VARIANT_NAME', ylabel='REVENUE'>"
            ]
          },
          "execution_count": 131,
          "metadata": {},
          "output_type": "execute_result"
        },
        {
          "data": {
            "image/png": "[encoded data removed]",
            "text/plain": [
              "<Figure size 640x480 with 1 Axes>"
            ]
          },
          "metadata": {},
          "output_type": "display_data"
        }
      ],
      "source": [
        "sns.boxenplot(\n",
        "  df[['VARIANT_NAME', 'REVENUE']], \n",
        "  x = \"VARIANT_NAME\",\n",
        "  y = 'REVENUE',\n",
        "  hue=\"VARIANT_NAME\", \n",
        "  palette='rocket'\n",
        ")"
      ]
    },
    {
      "cell_type": "code",
      "execution_count": 132,
      "metadata": {
        "colab": {
          "base_uri": "https://localhost:8080/",
          "height": 887
        },
        "id": "e4LlwIbskXpX",
        "outputId": "f3b03f47-cd97-4cf6-b5a5-41cb1d229f57"
      },
      "outputs": [
        {
          "data": {
            "image/png": "[encoded data removed]",
            "text/plain": [
              "<Figure size 640x480 with 1 Axes>"
            ]
          },
          "metadata": {},
          "output_type": "display_data"
        },
        {
          "data": {
            "image/png": "[encoded data removed]",
            "text/plain": [
              "<Figure size 640x480 with 1 Axes>"
            ]
          },
          "metadata": {},
          "output_type": "display_data"
        }
      ],
      "source": [
        "plt.hist(df[(df['VARIANT_NAME'] == 'variant') & (df['REVENUE'] != 0)]['REVENUE'], bins =20)\n",
        "plt.title('variant')\n",
        "plt.show()\n",
        "\n",
        "plt.hist(df[(df['VARIANT_NAME'] == 'control') & (df['REVENUE'] != 0)]['REVENUE'], bins =20)\n",
        "plt.title('control')\n",
        "plt.show()"
      ]
    },
    {
      "attachments": {},
      "cell_type": "markdown",
      "metadata": {
        "id": "oFpyQ2N4lIZT"
      },
      "source": [
        "# Removing outliers"
      ]
    },
    {
      "cell_type": "code",
      "execution_count": 133,
      "metadata": {
        "id": "C3-H5sWJkf0G"
      },
      "outputs": [],
      "source": [
        "# index_to_drop = df[(df['REVENUE'] >= 10) & (df['VARIANT_NAME'] == 'variant')].index\n",
        "# df.drop(index=index_to_drop, inplace= True)\n",
        "index_to_drop =  df[(df['REVENUE'] >= 25)].index\n",
        "df.drop(index=index_to_drop, inplace= True)"
      ]
    },
    {
      "cell_type": "code",
      "execution_count": 134,
      "metadata": {
        "colab": {
          "base_uri": "https://localhost:8080/",
          "height": 887
        },
        "id": "qYVeXnvUlYMW",
        "outputId": "ed873875-929a-4db5-9cca-9204d019e0a6"
      },
      "outputs": [
        {
          "data": {
            "image/png": "[encoded data removed]",
            "text/plain": [
              "<Figure size 640x480 with 1 Axes>"
            ]
          },
          "metadata": {},
          "output_type": "display_data"
        },
        {
          "data": {
            "image/png": "[encoded data removed]",
            "text/plain": [
              "<Figure size 640x480 with 1 Axes>"
            ]
          },
          "metadata": {},
          "output_type": "display_data"
        }
      ],
      "source": [
        "plt.hist(df[(df['VARIANT_NAME'] == 'variant') & (df['REVENUE'] != 0)]['REVENUE'], bins =20)\n",
        "plt.title('variant')\n",
        "plt.show()\n",
        "\n",
        "plt.hist(df[(df['VARIANT_NAME'] == 'control') & (df['REVENUE'] != 0)]['REVENUE'], bins =20)\n",
        "plt.title('control')\n",
        "plt.show()"
      ]
    },
    {
      "cell_type": "code",
      "execution_count": 135,
      "metadata": {
        "colab": {
          "base_uri": "https://localhost:8080/",
          "height": 466
        },
        "id": "FULnNhPmlZDH",
        "outputId": "e8607ccd-d64c-43d6-a5cb-189de289f52f"
      },
      "outputs": [
        {
          "data": {
            "text/plain": [
              "<Axes: xlabel='VARIANT_NAME', ylabel='REVENUE'>"
            ]
          },
          "execution_count": 135,
          "metadata": {},
          "output_type": "execute_result"
        },
        {
          "data": {
            "image/png": "[encoded data removed]",
            "text/plain": [
              "<Figure size 640x480 with 1 Axes>"
            ]
          },
          "metadata": {},
          "output_type": "display_data"
        }
      ],
      "source": [
        "sns.boxenplot(\n",
        "  df[['VARIANT_NAME', 'REVENUE']], \n",
        "  x = \"VARIANT_NAME\",\n",
        "  y = 'REVENUE',\n",
        "  hue=\"VARIANT_NAME\", \n",
        "  palette='rocket'\n",
        ")"
      ]
    },
    {
      "cell_type": "code",
      "execution_count": 136,
      "metadata": {
        "id": "ekNHxD10mJgo"
      },
      "outputs": [],
      "source": [
        "df['BOUGHT'] = np.where(df['REVENUE'] == 0, 0, 1)"
      ]
    },
    {
      "cell_type": "code",
      "execution_count": 137,
      "metadata": {
        "colab": {
          "base_uri": "https://localhost:8080/"
        },
        "id": "6xFrj7ZRBsm9",
        "outputId": "23c89970-441a-4d43-cb78-91b56d49fb75"
      },
      "outputs": [
        {
          "data": {
            "text/plain": [
              "BOUGHT\n",
              "0    5973\n",
              "1      95\n",
              "Name: count, dtype: int64"
            ]
          },
          "execution_count": 137,
          "metadata": {},
          "output_type": "execute_result"
        }
      ],
      "source": [
        "df['BOUGHT'].value_counts()"
      ]
    },
    {
      "cell_type": "code",
      "execution_count": 138,
      "metadata": {
        "colab": {
          "base_uri": "https://localhost:8080/"
        },
        "id": "dbgREWelBt8w",
        "outputId": "647e6ff0-09b3-4490-8ca1-ff6ee2093e2b"
      },
      "outputs": [
        {
          "data": {
            "text/plain": [
              "VARIANT_NAME  BOUGHT\n",
              "control       0         2972\n",
              "              1           52\n",
              "variant       0         3001\n",
              "              1           43\n",
              "Name: BOUGHT, dtype: int64"
            ]
          },
          "execution_count": 138,
          "metadata": {},
          "output_type": "execute_result"
        }
      ],
      "source": [
        "df.groupby(['VARIANT_NAME', 'BOUGHT'])['BOUGHT'].count()"
      ]
    },
    {
      "cell_type": "code",
      "execution_count": 139,
      "metadata": {
        "id": "iAkNmiRUmZO7"
      },
      "outputs": [],
      "source": [
        "df.reset_index(drop=True, inplace=True)"
      ]
    },
    {
      "attachments": {},
      "cell_type": "markdown",
      "metadata": {
        "id": "9gQgtYVnABm0"
      },
      "source": [
        "# New dataframes"
      ]
    },
    {
      "cell_type": "code",
      "execution_count": 140,
      "metadata": {
        "colab": {
          "base_uri": "https://localhost:8080/",
          "height": 424
        },
        "id": "XGHx3PmPAJs6",
        "outputId": "73acccad-3c6b-4681-e103-a08e930c1daf"
      },
      "outputs": [
        {
          "data": {
            "text/html": [
              "<div>\n",
              "<style scoped>\n",
              "    .dataframe tbody tr th:only-of-type {\n",
              "        vertical-align: middle;\n",
              "    }\n",
              "\n",
              "    .dataframe tbody tr th {\n",
              "        vertical-align: top;\n",
              "    }\n",
              "\n",
              "    .dataframe thead th {\n",
              "        text-align: right;\n",
              "    }\n",
              "</style>\n",
              "<table border=\"1\" class=\"dataframe\">\n",
              "  <thead>\n",
              "    <tr style=\"text-align: right;\">\n",
              "      <th></th>\n",
              "      <th>USER_ID</th>\n",
              "      <th>VARIANT_NAME</th>\n",
              "      <th>REVENUE</th>\n",
              "    </tr>\n",
              "  </thead>\n",
              "  <tbody>\n",
              "    <tr>\n",
              "      <th>0</th>\n",
              "      <td>2</td>\n",
              "      <td>control</td>\n",
              "      <td>0.0</td>\n",
              "    </tr>\n",
              "    <tr>\n",
              "      <th>1</th>\n",
              "      <td>4</td>\n",
              "      <td>variant</td>\n",
              "      <td>0.0</td>\n",
              "    </tr>\n",
              "    <tr>\n",
              "      <th>2</th>\n",
              "      <td>5</td>\n",
              "      <td>variant</td>\n",
              "      <td>0.0</td>\n",
              "    </tr>\n",
              "    <tr>\n",
              "      <th>3</th>\n",
              "      <td>6</td>\n",
              "      <td>variant</td>\n",
              "      <td>0.0</td>\n",
              "    </tr>\n",
              "    <tr>\n",
              "      <th>4</th>\n",
              "      <td>9</td>\n",
              "      <td>variant</td>\n",
              "      <td>0.0</td>\n",
              "    </tr>\n",
              "    <tr>\n",
              "      <th>...</th>\n",
              "      <td>...</td>\n",
              "      <td>...</td>\n",
              "      <td>...</td>\n",
              "    </tr>\n",
              "    <tr>\n",
              "      <th>4777</th>\n",
              "      <td>9990</td>\n",
              "      <td>variant</td>\n",
              "      <td>0.0</td>\n",
              "    </tr>\n",
              "    <tr>\n",
              "      <th>4778</th>\n",
              "      <td>9992</td>\n",
              "      <td>control</td>\n",
              "      <td>0.0</td>\n",
              "    </tr>\n",
              "    <tr>\n",
              "      <th>4779</th>\n",
              "      <td>9993</td>\n",
              "      <td>control</td>\n",
              "      <td>0.0</td>\n",
              "    </tr>\n",
              "    <tr>\n",
              "      <th>4780</th>\n",
              "      <td>9995</td>\n",
              "      <td>variant</td>\n",
              "      <td>0.0</td>\n",
              "    </tr>\n",
              "    <tr>\n",
              "      <th>4781</th>\n",
              "      <td>9998</td>\n",
              "      <td>control</td>\n",
              "      <td>0.0</td>\n",
              "    </tr>\n",
              "  </tbody>\n",
              "</table>\n",
              "<p>4782 rows × 3 columns</p>\n",
              "</div>"
            ],
            "text/plain": [
              "      USER_ID VARIANT_NAME  REVENUE\n",
              "0           2      control      0.0\n",
              "1           4      variant      0.0\n",
              "2           5      variant      0.0\n",
              "3           6      variant      0.0\n",
              "4           9      variant      0.0\n",
              "...       ...          ...      ...\n",
              "4777     9990      variant      0.0\n",
              "4778     9992      control      0.0\n",
              "4779     9993      control      0.0\n",
              "4780     9995      variant      0.0\n",
              "4781     9998      control      0.0\n",
              "\n",
              "[4782 rows x 3 columns]"
            ]
          },
          "execution_count": 140,
          "metadata": {},
          "output_type": "execute_result"
        }
      ],
      "source": [
        "df_userid_revenue = pd.DataFrame(df.groupby(['USER_ID', 'VARIANT_NAME'])['REVENUE'].sum()).reset_index()\n",
        "df_userid_revenue"
      ]
    },
    {
      "cell_type": "code",
      "execution_count": 141,
      "metadata": {
        "colab": {
          "base_uri": "https://localhost:8080/",
          "height": 424
        },
        "id": "rkikPgsnCJHj",
        "outputId": "67ccf419-6eeb-451a-d77a-506799d8e9fa"
      },
      "outputs": [
        {
          "data": {
            "text/html": [
              "<div>\n",
              "<style scoped>\n",
              "    .dataframe tbody tr th:only-of-type {\n",
              "        vertical-align: middle;\n",
              "    }\n",
              "\n",
              "    .dataframe tbody tr th {\n",
              "        vertical-align: top;\n",
              "    }\n",
              "\n",
              "    .dataframe thead th {\n",
              "        text-align: right;\n",
              "    }\n",
              "</style>\n",
              "<table border=\"1\" class=\"dataframe\">\n",
              "  <thead>\n",
              "    <tr style=\"text-align: right;\">\n",
              "      <th></th>\n",
              "      <th>USER_ID</th>\n",
              "      <th>VARIANT_NAME</th>\n",
              "      <th>INTERACTIONS</th>\n",
              "    </tr>\n",
              "  </thead>\n",
              "  <tbody>\n",
              "    <tr>\n",
              "      <th>0</th>\n",
              "      <td>2</td>\n",
              "      <td>control</td>\n",
              "      <td>3</td>\n",
              "    </tr>\n",
              "    <tr>\n",
              "      <th>1</th>\n",
              "      <td>4</td>\n",
              "      <td>variant</td>\n",
              "      <td>1</td>\n",
              "    </tr>\n",
              "    <tr>\n",
              "      <th>2</th>\n",
              "      <td>5</td>\n",
              "      <td>variant</td>\n",
              "      <td>1</td>\n",
              "    </tr>\n",
              "    <tr>\n",
              "      <th>3</th>\n",
              "      <td>6</td>\n",
              "      <td>variant</td>\n",
              "      <td>1</td>\n",
              "    </tr>\n",
              "    <tr>\n",
              "      <th>4</th>\n",
              "      <td>9</td>\n",
              "      <td>variant</td>\n",
              "      <td>1</td>\n",
              "    </tr>\n",
              "    <tr>\n",
              "      <th>...</th>\n",
              "      <td>...</td>\n",
              "      <td>...</td>\n",
              "      <td>...</td>\n",
              "    </tr>\n",
              "    <tr>\n",
              "      <th>4777</th>\n",
              "      <td>9990</td>\n",
              "      <td>variant</td>\n",
              "      <td>1</td>\n",
              "    </tr>\n",
              "    <tr>\n",
              "      <th>4778</th>\n",
              "      <td>9992</td>\n",
              "      <td>control</td>\n",
              "      <td>1</td>\n",
              "    </tr>\n",
              "    <tr>\n",
              "      <th>4779</th>\n",
              "      <td>9993</td>\n",
              "      <td>control</td>\n",
              "      <td>1</td>\n",
              "    </tr>\n",
              "    <tr>\n",
              "      <th>4780</th>\n",
              "      <td>9995</td>\n",
              "      <td>variant</td>\n",
              "      <td>2</td>\n",
              "    </tr>\n",
              "    <tr>\n",
              "      <th>4781</th>\n",
              "      <td>9998</td>\n",
              "      <td>control</td>\n",
              "      <td>1</td>\n",
              "    </tr>\n",
              "  </tbody>\n",
              "</table>\n",
              "<p>4782 rows × 3 columns</p>\n",
              "</div>"
            ],
            "text/plain": [
              "      USER_ID VARIANT_NAME  INTERACTIONS\n",
              "0           2      control             3\n",
              "1           4      variant             1\n",
              "2           5      variant             1\n",
              "3           6      variant             1\n",
              "4           9      variant             1\n",
              "...       ...          ...           ...\n",
              "4777     9990      variant             1\n",
              "4778     9992      control             1\n",
              "4779     9993      control             1\n",
              "4780     9995      variant             2\n",
              "4781     9998      control             1\n",
              "\n",
              "[4782 rows x 3 columns]"
            ]
          },
          "execution_count": 141,
          "metadata": {},
          "output_type": "execute_result"
        }
      ],
      "source": [
        "df_userid_interaction = df[['USER_ID', 'VARIANT_NAME', 'REVENUE']].groupby(['USER_ID', 'VARIANT_NAME']).agg(INTERACTIONS=('REVENUE', 'count')).reset_index()\n",
        "# df_userid_interaction = df[['USER_ID', 'VARIANT_NAME', 'REVENUE']].groupby(['USER_ID', 'VARIANT_NAME']).count().reset_index()\n",
        "# df_userid_interaction.rename(columns={'REVENUE': 'INTERACTIONS'}, inplace=True)\n",
        "df_userid_interaction"
      ]
    },
    {
      "cell_type": "code",
      "execution_count": 142,
      "metadata": {
        "colab": {
          "base_uri": "https://localhost:8080/",
          "height": 424
        },
        "id": "Q6QHfQOYLSuj",
        "outputId": "8bcd7e71-fece-4adf-c810-6feff13ab25b"
      },
      "outputs": [
        {
          "data": {
            "text/html": [
              "<div>\n",
              "<style scoped>\n",
              "    .dataframe tbody tr th:only-of-type {\n",
              "        vertical-align: middle;\n",
              "    }\n",
              "\n",
              "    .dataframe tbody tr th {\n",
              "        vertical-align: top;\n",
              "    }\n",
              "\n",
              "    .dataframe thead th {\n",
              "        text-align: right;\n",
              "    }\n",
              "</style>\n",
              "<table border=\"1\" class=\"dataframe\">\n",
              "  <thead>\n",
              "    <tr style=\"text-align: right;\">\n",
              "      <th></th>\n",
              "      <th>USER_ID</th>\n",
              "      <th>VARIANT_NAME</th>\n",
              "      <th>TOTAL_BOUGHTS</th>\n",
              "    </tr>\n",
              "  </thead>\n",
              "  <tbody>\n",
              "    <tr>\n",
              "      <th>0</th>\n",
              "      <td>2</td>\n",
              "      <td>control</td>\n",
              "      <td>0</td>\n",
              "    </tr>\n",
              "    <tr>\n",
              "      <th>1</th>\n",
              "      <td>4</td>\n",
              "      <td>variant</td>\n",
              "      <td>0</td>\n",
              "    </tr>\n",
              "    <tr>\n",
              "      <th>2</th>\n",
              "      <td>5</td>\n",
              "      <td>variant</td>\n",
              "      <td>0</td>\n",
              "    </tr>\n",
              "    <tr>\n",
              "      <th>3</th>\n",
              "      <td>6</td>\n",
              "      <td>variant</td>\n",
              "      <td>0</td>\n",
              "    </tr>\n",
              "    <tr>\n",
              "      <th>4</th>\n",
              "      <td>9</td>\n",
              "      <td>variant</td>\n",
              "      <td>0</td>\n",
              "    </tr>\n",
              "    <tr>\n",
              "      <th>...</th>\n",
              "      <td>...</td>\n",
              "      <td>...</td>\n",
              "      <td>...</td>\n",
              "    </tr>\n",
              "    <tr>\n",
              "      <th>4777</th>\n",
              "      <td>9990</td>\n",
              "      <td>variant</td>\n",
              "      <td>0</td>\n",
              "    </tr>\n",
              "    <tr>\n",
              "      <th>4778</th>\n",
              "      <td>9992</td>\n",
              "      <td>control</td>\n",
              "      <td>0</td>\n",
              "    </tr>\n",
              "    <tr>\n",
              "      <th>4779</th>\n",
              "      <td>9993</td>\n",
              "      <td>control</td>\n",
              "      <td>0</td>\n",
              "    </tr>\n",
              "    <tr>\n",
              "      <th>4780</th>\n",
              "      <td>9995</td>\n",
              "      <td>variant</td>\n",
              "      <td>0</td>\n",
              "    </tr>\n",
              "    <tr>\n",
              "      <th>4781</th>\n",
              "      <td>9998</td>\n",
              "      <td>control</td>\n",
              "      <td>0</td>\n",
              "    </tr>\n",
              "  </tbody>\n",
              "</table>\n",
              "<p>4782 rows × 3 columns</p>\n",
              "</div>"
            ],
            "text/plain": [
              "      USER_ID VARIANT_NAME  TOTAL_BOUGHTS\n",
              "0           2      control              0\n",
              "1           4      variant              0\n",
              "2           5      variant              0\n",
              "3           6      variant              0\n",
              "4           9      variant              0\n",
              "...       ...          ...            ...\n",
              "4777     9990      variant              0\n",
              "4778     9992      control              0\n",
              "4779     9993      control              0\n",
              "4780     9995      variant              0\n",
              "4781     9998      control              0\n",
              "\n",
              "[4782 rows x 3 columns]"
            ]
          },
          "execution_count": 142,
          "metadata": {},
          "output_type": "execute_result"
        }
      ],
      "source": [
        "df_userid_bought = df[['USER_ID', 'VARIANT_NAME', 'BOUGHT']].groupby(['USER_ID', 'VARIANT_NAME']).agg(TOTAL_BOUGHTS=('BOUGHT', 'sum')).reset_index()\n",
        "df_userid_bought"
      ]
    },
    {
      "cell_type": "code",
      "execution_count": 143,
      "metadata": {
        "colab": {
          "base_uri": "https://localhost:8080/",
          "height": 424
        },
        "id": "Bp1tySqONWlC",
        "outputId": "bd9a636b-e810-4f65-8255-8e03ee08f4ec"
      },
      "outputs": [
        {
          "data": {
            "text/html": [
              "<div>\n",
              "<style scoped>\n",
              "    .dataframe tbody tr th:only-of-type {\n",
              "        vertical-align: middle;\n",
              "    }\n",
              "\n",
              "    .dataframe tbody tr th {\n",
              "        vertical-align: top;\n",
              "    }\n",
              "\n",
              "    .dataframe thead th {\n",
              "        text-align: right;\n",
              "    }\n",
              "</style>\n",
              "<table border=\"1\" class=\"dataframe\">\n",
              "  <thead>\n",
              "    <tr style=\"text-align: right;\">\n",
              "      <th></th>\n",
              "      <th>USER_ID</th>\n",
              "      <th>VARIANT_NAME</th>\n",
              "      <th>REVENUE</th>\n",
              "      <th>INTERACTIONS</th>\n",
              "      <th>TOTAL_BOUGHTS</th>\n",
              "    </tr>\n",
              "  </thead>\n",
              "  <tbody>\n",
              "    <tr>\n",
              "      <th>0</th>\n",
              "      <td>2</td>\n",
              "      <td>control</td>\n",
              "      <td>0.0</td>\n",
              "      <td>3</td>\n",
              "      <td>0</td>\n",
              "    </tr>\n",
              "    <tr>\n",
              "      <th>1</th>\n",
              "      <td>4</td>\n",
              "      <td>variant</td>\n",
              "      <td>0.0</td>\n",
              "      <td>1</td>\n",
              "      <td>0</td>\n",
              "    </tr>\n",
              "    <tr>\n",
              "      <th>2</th>\n",
              "      <td>5</td>\n",
              "      <td>variant</td>\n",
              "      <td>0.0</td>\n",
              "      <td>1</td>\n",
              "      <td>0</td>\n",
              "    </tr>\n",
              "    <tr>\n",
              "      <th>3</th>\n",
              "      <td>6</td>\n",
              "      <td>variant</td>\n",
              "      <td>0.0</td>\n",
              "      <td>1</td>\n",
              "      <td>0</td>\n",
              "    </tr>\n",
              "    <tr>\n",
              "      <th>4</th>\n",
              "      <td>9</td>\n",
              "      <td>variant</td>\n",
              "      <td>0.0</td>\n",
              "      <td>1</td>\n",
              "      <td>0</td>\n",
              "    </tr>\n",
              "    <tr>\n",
              "      <th>...</th>\n",
              "      <td>...</td>\n",
              "      <td>...</td>\n",
              "      <td>...</td>\n",
              "      <td>...</td>\n",
              "      <td>...</td>\n",
              "    </tr>\n",
              "    <tr>\n",
              "      <th>4777</th>\n",
              "      <td>9990</td>\n",
              "      <td>variant</td>\n",
              "      <td>0.0</td>\n",
              "      <td>1</td>\n",
              "      <td>0</td>\n",
              "    </tr>\n",
              "    <tr>\n",
              "      <th>4778</th>\n",
              "      <td>9992</td>\n",
              "      <td>control</td>\n",
              "      <td>0.0</td>\n",
              "      <td>1</td>\n",
              "      <td>0</td>\n",
              "    </tr>\n",
              "    <tr>\n",
              "      <th>4779</th>\n",
              "      <td>9993</td>\n",
              "      <td>control</td>\n",
              "      <td>0.0</td>\n",
              "      <td>1</td>\n",
              "      <td>0</td>\n",
              "    </tr>\n",
              "    <tr>\n",
              "      <th>4780</th>\n",
              "      <td>9995</td>\n",
              "      <td>variant</td>\n",
              "      <td>0.0</td>\n",
              "      <td>2</td>\n",
              "      <td>0</td>\n",
              "    </tr>\n",
              "    <tr>\n",
              "      <th>4781</th>\n",
              "      <td>9998</td>\n",
              "      <td>control</td>\n",
              "      <td>0.0</td>\n",
              "      <td>1</td>\n",
              "      <td>0</td>\n",
              "    </tr>\n",
              "  </tbody>\n",
              "</table>\n",
              "<p>4782 rows × 5 columns</p>\n",
              "</div>"
            ],
            "text/plain": [
              "      USER_ID VARIANT_NAME  REVENUE  INTERACTIONS  TOTAL_BOUGHTS\n",
              "0           2      control      0.0             3              0\n",
              "1           4      variant      0.0             1              0\n",
              "2           5      variant      0.0             1              0\n",
              "3           6      variant      0.0             1              0\n",
              "4           9      variant      0.0             1              0\n",
              "...       ...          ...      ...           ...            ...\n",
              "4777     9990      variant      0.0             1              0\n",
              "4778     9992      control      0.0             1              0\n",
              "4779     9993      control      0.0             1              0\n",
              "4780     9995      variant      0.0             2              0\n",
              "4781     9998      control      0.0             1              0\n",
              "\n",
              "[4782 rows x 5 columns]"
            ]
          },
          "execution_count": 143,
          "metadata": {},
          "output_type": "execute_result"
        }
      ],
      "source": [
        "# pd.concat([df_userid_revenue, df_userid_interaction, df_userid_bought], axis=1)\n",
        "df_grouped_users = pd.merge(df_userid_revenue, df_userid_interaction, on=['USER_ID', 'VARIANT_NAME']).merge(df_userid_bought, on=['USER_ID', 'VARIANT_NAME'])\n",
        "df_grouped_users"
      ]
    },
    {
      "cell_type": "code",
      "execution_count": 144,
      "metadata": {
        "colab": {
          "base_uri": "https://localhost:8080/",
          "height": 183
        },
        "id": "DAai_elaSVgb",
        "outputId": "9cff0fb7-b19a-46df-c6a8-ab71442dfcd1"
      },
      "outputs": [
        {
          "data": {
            "text/html": [
              "<div>\n",
              "<style scoped>\n",
              "    .dataframe tbody tr th:only-of-type {\n",
              "        vertical-align: middle;\n",
              "    }\n",
              "\n",
              "    .dataframe tbody tr th {\n",
              "        vertical-align: top;\n",
              "    }\n",
              "\n",
              "    .dataframe thead th {\n",
              "        text-align: right;\n",
              "    }\n",
              "</style>\n",
              "<table border=\"1\" class=\"dataframe\">\n",
              "  <thead>\n",
              "    <tr style=\"text-align: right;\">\n",
              "      <th></th>\n",
              "      <th>USER_ID</th>\n",
              "      <th>VARIANT_NAME</th>\n",
              "      <th>REVENUE</th>\n",
              "      <th>INTERACTIONS</th>\n",
              "      <th>TOTAL_BOUGHTS</th>\n",
              "      <th>CONVERTION_RATE</th>\n",
              "      <th>NO_BOUGHTS</th>\n",
              "      <th>BOUGHT</th>\n",
              "    </tr>\n",
              "  </thead>\n",
              "  <tbody>\n",
              "    <tr>\n",
              "      <th>0</th>\n",
              "      <td>2</td>\n",
              "      <td>control</td>\n",
              "      <td>0.0</td>\n",
              "      <td>3</td>\n",
              "      <td>0</td>\n",
              "      <td>0.0</td>\n",
              "      <td>3</td>\n",
              "      <td>0</td>\n",
              "    </tr>\n",
              "    <tr>\n",
              "      <th>1</th>\n",
              "      <td>4</td>\n",
              "      <td>variant</td>\n",
              "      <td>0.0</td>\n",
              "      <td>1</td>\n",
              "      <td>0</td>\n",
              "      <td>0.0</td>\n",
              "      <td>1</td>\n",
              "      <td>0</td>\n",
              "    </tr>\n",
              "    <tr>\n",
              "      <th>2</th>\n",
              "      <td>5</td>\n",
              "      <td>variant</td>\n",
              "      <td>0.0</td>\n",
              "      <td>1</td>\n",
              "      <td>0</td>\n",
              "      <td>0.0</td>\n",
              "      <td>1</td>\n",
              "      <td>0</td>\n",
              "    </tr>\n",
              "    <tr>\n",
              "      <th>3</th>\n",
              "      <td>6</td>\n",
              "      <td>variant</td>\n",
              "      <td>0.0</td>\n",
              "      <td>1</td>\n",
              "      <td>0</td>\n",
              "      <td>0.0</td>\n",
              "      <td>1</td>\n",
              "      <td>0</td>\n",
              "    </tr>\n",
              "    <tr>\n",
              "      <th>4</th>\n",
              "      <td>9</td>\n",
              "      <td>variant</td>\n",
              "      <td>0.0</td>\n",
              "      <td>1</td>\n",
              "      <td>0</td>\n",
              "      <td>0.0</td>\n",
              "      <td>1</td>\n",
              "      <td>0</td>\n",
              "    </tr>\n",
              "    <tr>\n",
              "      <th>...</th>\n",
              "      <td>...</td>\n",
              "      <td>...</td>\n",
              "      <td>...</td>\n",
              "      <td>...</td>\n",
              "      <td>...</td>\n",
              "      <td>...</td>\n",
              "      <td>...</td>\n",
              "      <td>...</td>\n",
              "    </tr>\n",
              "    <tr>\n",
              "      <th>4777</th>\n",
              "      <td>9990</td>\n",
              "      <td>variant</td>\n",
              "      <td>0.0</td>\n",
              "      <td>1</td>\n",
              "      <td>0</td>\n",
              "      <td>0.0</td>\n",
              "      <td>1</td>\n",
              "      <td>0</td>\n",
              "    </tr>\n",
              "    <tr>\n",
              "      <th>4778</th>\n",
              "      <td>9992</td>\n",
              "      <td>control</td>\n",
              "      <td>0.0</td>\n",
              "      <td>1</td>\n",
              "      <td>0</td>\n",
              "      <td>0.0</td>\n",
              "      <td>1</td>\n",
              "      <td>0</td>\n",
              "    </tr>\n",
              "    <tr>\n",
              "      <th>4779</th>\n",
              "      <td>9993</td>\n",
              "      <td>control</td>\n",
              "      <td>0.0</td>\n",
              "      <td>1</td>\n",
              "      <td>0</td>\n",
              "      <td>0.0</td>\n",
              "      <td>1</td>\n",
              "      <td>0</td>\n",
              "    </tr>\n",
              "    <tr>\n",
              "      <th>4780</th>\n",
              "      <td>9995</td>\n",
              "      <td>variant</td>\n",
              "      <td>0.0</td>\n",
              "      <td>2</td>\n",
              "      <td>0</td>\n",
              "      <td>0.0</td>\n",
              "      <td>2</td>\n",
              "      <td>0</td>\n",
              "    </tr>\n",
              "    <tr>\n",
              "      <th>4781</th>\n",
              "      <td>9998</td>\n",
              "      <td>control</td>\n",
              "      <td>0.0</td>\n",
              "      <td>1</td>\n",
              "      <td>0</td>\n",
              "      <td>0.0</td>\n",
              "      <td>1</td>\n",
              "      <td>0</td>\n",
              "    </tr>\n",
              "  </tbody>\n",
              "</table>\n",
              "<p>4782 rows × 8 columns</p>\n",
              "</div>"
            ],
            "text/plain": [
              "      USER_ID VARIANT_NAME  REVENUE  INTERACTIONS  TOTAL_BOUGHTS   \n",
              "0           2      control      0.0             3              0  \\\n",
              "1           4      variant      0.0             1              0   \n",
              "2           5      variant      0.0             1              0   \n",
              "3           6      variant      0.0             1              0   \n",
              "4           9      variant      0.0             1              0   \n",
              "...       ...          ...      ...           ...            ...   \n",
              "4777     9990      variant      0.0             1              0   \n",
              "4778     9992      control      0.0             1              0   \n",
              "4779     9993      control      0.0             1              0   \n",
              "4780     9995      variant      0.0             2              0   \n",
              "4781     9998      control      0.0             1              0   \n",
              "\n",
              "      CONVERTION_RATE  NO_BOUGHTS  BOUGHT  \n",
              "0                 0.0           3       0  \n",
              "1                 0.0           1       0  \n",
              "2                 0.0           1       0  \n",
              "3                 0.0           1       0  \n",
              "4                 0.0           1       0  \n",
              "...               ...         ...     ...  \n",
              "4777              0.0           1       0  \n",
              "4778              0.0           1       0  \n",
              "4779              0.0           1       0  \n",
              "4780              0.0           2       0  \n",
              "4781              0.0           1       0  \n",
              "\n",
              "[4782 rows x 8 columns]"
            ]
          },
          "execution_count": 144,
          "metadata": {},
          "output_type": "execute_result"
        }
      ],
      "source": [
        "df_grouped_users['CONVERTION_RATE'] = df_grouped_users['TOTAL_BOUGHTS'] / df_grouped_users['INTERACTIONS']\n",
        "df_grouped_users['NO_BOUGHTS'] = df_grouped_users['INTERACTIONS'] - df_grouped_users['TOTAL_BOUGHTS']\n",
        "df_grouped_users['BOUGHT'] = np.where(df_grouped_users['REVENUE'] == 0, 0, 1)\n",
        "df_grouped_users"
      ]
    },
    {
      "cell_type": "code",
      "execution_count": 30,
      "metadata": {},
      "outputs": [
        {
          "data": {
            "text/plain": [
              "<Axes: xlabel='VARIANT_NAME', ylabel='REVENUE'>"
            ]
          },
          "execution_count": 30,
          "metadata": {},
          "output_type": "execute_result"
        },
        {
          "data": {
            "image/png": "[encoded data removed]",
            "text/plain": [
              "<Figure size 640x480 with 1 Axes>"
            ]
          },
          "metadata": {},
          "output_type": "display_data"
        }
      ],
      "source": [
        "sns.boxenplot(\n",
        "  df_grouped_users[['VARIANT_NAME', 'REVENUE']], \n",
        "  x = \"VARIANT_NAME\",\n",
        "  y = 'REVENUE',\n",
        "  hue=\"VARIANT_NAME\", \n",
        "  palette='rocket'\n",
        ")"
      ]
    },
    {
      "cell_type": "code",
      "execution_count": 31,
      "metadata": {},
      "outputs": [
        {
          "data": {
            "image/png": "[encoded data removed]",
            "text/plain": [
              "<Figure size 1800x1800 with 9 Axes>"
            ]
          },
          "metadata": {},
          "output_type": "display_data"
        }
      ],
      "source": [
        "df_grouped_users_num = df_grouped_users.select_dtypes(include='number')\n",
        "n_cols =  3\n",
        "red_circle_boxen = dict(color='red', marker='o', edgecolors='white')\n",
        "# n_rows = int(np.ceil(((df_grouped_users_num.shape[1]-1) / n_cols)))\n",
        "n_rows = int(np.ceil(((df_grouped_users_num.shape[1]) / n_cols)))\n",
        "fig, axes = plt.subplots(nrows=n_rows, ncols=n_cols,figsize=(18, (n_rows*6)))\n",
        "for i, column in enumerate(df_grouped_users_num.columns):\n",
        "  if(len(df_grouped_users_num[column].unique()) <= 24): # \"categorical\" data\n",
        "    sns.countplot(\n",
        "      df_grouped_users[[column, 'VARIANT_NAME']],\n",
        "      x = column,\n",
        "      hue=\"VARIANT_NAME\", \n",
        "      ax=axes[i//n_cols,i%n_cols],\n",
        "    )\n",
        "  else: # if it's not categorical data...\n",
        "\n",
        "    sns.boxenplot(\n",
        "      df_grouped_users[[column, 'VARIANT_NAME']],\n",
        "      x = \"VARIANT_NAME\",\n",
        "      hue=\"VARIANT_NAME\", \n",
        "      y = column,\n",
        "      ax=axes[i//n_cols,i%n_cols],\n",
        "      flier_kws=red_circle_boxen\n",
        "    )"
      ]
    },
    {
      "attachments": {},
      "cell_type": "markdown",
      "metadata": {
        "id": "XzgIF_FrmWtv"
      },
      "source": [
        "# A/B Testing"
      ]
    },
    {
      "attachments": {},
      "cell_type": "markdown",
      "metadata": {},
      "source": [
        "General assumptions:\n",
        "- Randomness: The samples are random subsets of larger population\n",
        "- Independence of observations: Each observation is independent\n",
        "- Large sample size: The sample is big enough to mitigate uncertainty, so that the Central Limit Theorem applies\n",
        "\n",
        "Test assumptions:\n",
        "\n",
        "- T-test for difference in means:\n",
        "    - Large sample size: \n",
        "    \n",
        "        - At least 30 observations in each sample. \n",
        "        \n",
        "            n1 >= 30, n2 >= 30\n",
        "\n",
        "- Mann-Whitney U rank test:\n",
        "    - The data must be independent.\n",
        "\n",
        "    - The data must be ordinal or capable of being ordered from least to greatest.\n",
        "\n",
        "    - It is not necessary to assume that the samples are normally distributed or that they come from normal populations. However, for the test to compare medians, both samples must have the same type of distribution (variance, skewness, etc.).\n",
        "\n",
        "Equality of variance between groups (homoscedasticity).\n",
        "- Permutation test for difference in means\n",
        "- Levene test for equal variances between samples\n",
        "- Z-test for proportions:\n",
        "    - Large sample size: \n",
        "\n",
        "        - Number of successes in each sample is equal or greater than 10\n",
        "\n",
        "            n1 * p_hat1 >= 10\n",
        "            n2 * p_hat2 >= 10\n",
        "            \n",
        "        - Number of failures in each sample is equal or greater than 10\n",
        "        \n",
        "            n1 * (1-p_hat1) >= 10\n",
        "            n2 * (1-p_hat2) >= 10\n",
        "\n",
        "- Permutation test for proportions\n",
        "- Chi-Square test of Independence:\n",
        "    - Large sample size:\n",
        "\n",
        "        - The number of successes in each group is equal or greater than 5\n",
        "\n",
        "            ni * p_hati >= 5 for all values of i\n",
        "\n",
        "        - The number of failures in each group is equal or greater than 5\n",
        "\n",
        "            ni * (1-p_hati) >= 5 for all values of i\n",
        "\n",
        "- Fisher's Exact test"
      ]
    },
    {
      "attachments": {},
      "cell_type": "markdown",
      "metadata": {},
      "source": [
        "## A/B Testing on Revenue"
      ]
    },
    {
      "cell_type": "code",
      "execution_count": 32,
      "metadata": {
        "colab": {
          "base_uri": "https://localhost:8080/"
        },
        "id": "HSueQV4pFi8p",
        "outputId": "e23ac0ac-6f2a-4f21-eb7c-4e21335225ad"
      },
      "outputs": [
        {
          "name": "stdout",
          "output_type": "stream",
          "text": [
            "0.10264964420259523\n",
            "0.07493522774759716\n",
            "-0.027714416454998073\n"
          ]
        }
      ],
      "source": [
        "mean_control = df_grouped_users[df_grouped_users['VARIANT_NAME'] == 'control']['REVENUE'].mean()\n",
        "mean_variant = df_grouped_users[df_grouped_users['VARIANT_NAME'] == 'variant']['REVENUE'].mean()\n",
        "print(mean_control)\n",
        "print(mean_variant)\n",
        "print(mean_variant - mean_control)"
      ]
    },
    {
      "attachments": {},
      "cell_type": "markdown",
      "metadata": {},
      "source": [
        "Based on the calculations for the mean of each group, we make the hyphotesis that the variant group generates less revenue than the control group on average.\n",
        "\n",
        "H0 = No difference on revenue.\n",
        "\n",
        "H1 = Variant group generates less revenue."
      ]
    },
    {
      "attachments": {},
      "cell_type": "markdown",
      "metadata": {},
      "source": [
        "### Levene test (for equal variances)"
      ]
    },
    {
      "attachments": {},
      "cell_type": "markdown",
      "metadata": {},
      "source": [
        "Determining if the variances of the samples are equal will help us decide which test are appropiate."
      ]
    },
    {
      "cell_type": "code",
      "execution_count": 33,
      "metadata": {},
      "outputs": [
        {
          "name": "stdout",
          "output_type": "stream",
          "text": [
            "1.0613290873416377 0.3029643704990575\n"
          ]
        }
      ],
      "source": [
        "stat, p = stats.levene(\n",
        "    df_grouped_users[df_grouped_users['VARIANT_NAME'] == 'control']['REVENUE'],\n",
        "    df_grouped_users[df_grouped_users['VARIANT_NAME'] == 'variant']['REVENUE']\n",
        ")\n",
        "print(stat, p)"
      ]
    },
    {
      "attachments": {},
      "cell_type": "markdown",
      "metadata": {},
      "source": [
        "With a p value of 0.30 we failed to reject the null hypothesis that the samples are from populations with equal variances."
      ]
    },
    {
      "attachments": {},
      "cell_type": "markdown",
      "metadata": {},
      "source": [
        "### Permutation test"
      ]
    },
    {
      "cell_type": "code",
      "execution_count": 145,
      "metadata": {
        "colab": {
          "base_uri": "https://localhost:8080/"
        },
        "id": "IuSYr9v4CM2Z",
        "outputId": "908eab98-75f0-4a28-9f7e-d97d1b6519ce"
      },
      "outputs": [
        {
          "name": "stdout",
          "output_type": "stream",
          "text": [
            "0.021160565462576858\n"
          ]
        }
      ],
      "source": [
        "def permutation_test_mean_difference(x, nA, nB):\n",
        "    n = nA + nB\n",
        "    idx_B = set(random.sample(range(n), nB))\n",
        "    idx_A = set(range(n)) - idx_B\n",
        "    return x.loc[list(idx_B)].mean() - x.loc[list(idx_A)].mean()\n",
        "    \n",
        "nA = df_grouped_users[df_grouped_users['VARIANT_NAME'] == 'control'].shape[0]\n",
        "nB = df_grouped_users[df_grouped_users['VARIANT_NAME'] == 'variant'].shape[0]\n",
        "# nA = 5\n",
        "# nB = 6\n",
        "print(permutation_test_mean_difference(df_grouped_users['REVENUE'], nA, nB))"
      ]
    },
    {
      "cell_type": "code",
      "execution_count": 146,
      "metadata": {},
      "outputs": [
        {
          "data": {
            "image/png": "[encoded data removed]",
            "text/plain": [
              "<Figure size 500x500 with 1 Axes>"
            ]
          },
          "metadata": {},
          "output_type": "display_data"
        }
      ],
      "source": [
        "# random.seed(1)\n",
        "perm_diffs = [permutation_test_mean_difference(df_grouped_users['REVENUE'], nA, nB) for _ in range(1000)]\n",
        "\n",
        "fig, ax = plt.subplots(figsize=(5, 5))\n",
        "ax.hist(perm_diffs, bins=11, rwidth=0.9)\n",
        "ax.axvline(x = mean_variant - mean_control, color='black', lw=2)\n",
        "# ax.text(50, 190, 'Observed\\ndifference', bbox={'facecolor':'white'})\n",
        "ax.text(-0.07, 150, 'Observed\\ndifference', bbox={'facecolor':'white'})\n",
        "ax.set_xlabel('Revenue differences')\n",
        "ax.set_ylabel('Frequency')\n",
        "\n",
        "# plt.tight_layout()\n",
        "plt.show()"
      ]
    },
    {
      "attachments": {},
      "cell_type": "markdown",
      "metadata": {},
      "source": [
        "What percentage of the mean differences of random permutations are below the observed difference?"
      ]
    },
    {
      "cell_type": "code",
      "execution_count": 151,
      "metadata": {
        "id": "q-95UJJfIwbj"
      },
      "outputs": [
        {
          "name": "stdout",
          "output_type": "stream",
          "text": [
            "0.135\n",
            "0.865\n",
            "1.0\n"
          ]
        }
      ],
      "source": [
        "perm_diffs = np.array(perm_diffs)\n",
        "less = np.mean(perm_diffs < mean_variant - mean_control)\n",
        "more = np.mean(perm_diffs > mean_variant - mean_control)\n",
        "print(less)\n",
        "print(more)\n",
        "print(less + more)"
      ]
    },
    {
      "cell_type": "code",
      "execution_count": 152,
      "metadata": {},
      "outputs": [
        {
          "data": {
            "text/plain": [
              "PermutationTestResult(statistic=0.027714416454998073, pvalue=0.3092, null_distribution=array([ 0.01005652, -0.00699912,  0.04482024, ..., -0.01564822,\n",
              "       -0.03216852, -0.02267458]))"
            ]
          },
          "execution_count": 152,
          "metadata": {},
          "output_type": "execute_result"
        }
      ],
      "source": [
        "def statistic(x, y, axis):\n",
        "    return np.mean(x, axis=axis) - np.mean(y, axis=axis)\n",
        "\n",
        "res = stats.permutation_test(\n",
        "    (df_grouped_users[df_grouped_users['VARIANT_NAME'] == 'control']['REVENUE'], \n",
        "     df_grouped_users[df_grouped_users['VARIANT_NAME'] == 'variant']['REVENUE']),\n",
        "     statistic,\n",
        "     vectorized=True\n",
        "    )\n",
        "res"
      ]
    },
    {
      "cell_type": "code",
      "execution_count": 153,
      "metadata": {},
      "outputs": [
        {
          "data": {
            "text/plain": [
              "PermutationTestResult(statistic=0.027714416454998073, pvalue=0.8479, null_distribution=array([-0.03288788, -0.01202631, -0.00019025, ..., -0.01667708,\n",
              "       -0.00083433, -0.00310116]))"
            ]
          },
          "execution_count": 153,
          "metadata": {},
          "output_type": "execute_result"
        }
      ],
      "source": [
        "res = stats.permutation_test(\n",
        "    (df_grouped_users[df_grouped_users['VARIANT_NAME'] == 'control']['REVENUE'], \n",
        "     df_grouped_users[df_grouped_users['VARIANT_NAME'] == 'variant']['REVENUE']),\n",
        "     statistic,\n",
        "     vectorized=True,\n",
        "     alternative='less'\n",
        "    )\n",
        "res"
      ]
    },
    {
      "cell_type": "code",
      "execution_count": 154,
      "metadata": {},
      "outputs": [
        {
          "data": {
            "text/plain": [
              "0.1472"
            ]
          },
          "execution_count": 154,
          "metadata": {},
          "output_type": "execute_result"
        }
      ],
      "source": [
        "res = stats.permutation_test(\n",
        "    (df_grouped_users[df_grouped_users['VARIANT_NAME'] == 'control']['REVENUE'], \n",
        "     df_grouped_users[df_grouped_users['VARIANT_NAME'] == 'variant']['REVENUE']),\n",
        "     statistic,\n",
        "     vectorized=True,\n",
        "     alternative='greater'\n",
        "    )\n",
        "res.pvalue"
      ]
    },
    {
      "attachments": {},
      "cell_type": "markdown",
      "metadata": {},
      "source": [
        "### t-Test"
      ]
    },
    {
      "cell_type": "code",
      "execution_count": 155,
      "metadata": {},
      "outputs": [
        {
          "name": "stdout",
          "output_type": "stream",
          "text": [
            "p-value for single sided test: 0.15148218524965731\n"
          ]
        }
      ],
      "source": [
        "# df_grouped_users[df_grouped_users['VARIANT_NAME'] == 'control']['REVENUE']\n",
        "# df_grouped_users[df_grouped_users['VARIANT_NAME'] == 'variant']['REVENUE']\n",
        "\n",
        "res = stats.ttest_ind(\n",
        "    df_grouped_users[df_grouped_users['VARIANT_NAME'] == 'control']['REVENUE'], \n",
        "    df_grouped_users[df_grouped_users['VARIANT_NAME'] == 'variant']['REVENUE'],\n",
        "    equal_var=True,\n",
        "    alternative='greater'\n",
        ")\n",
        "print(f'p-value for single sided test: {res.pvalue}')"
      ]
    },
    {
      "attachments": {},
      "cell_type": "markdown",
      "metadata": {},
      "source": [
        "### Mann-Whitney U rank test"
      ]
    },
    {
      "cell_type": "code",
      "execution_count": 156,
      "metadata": {},
      "outputs": [
        {
          "name": "stdout",
          "output_type": "stream",
          "text": [
            "0.14567423499143128\n"
          ]
        }
      ],
      "source": [
        "statistic, pvalue = stats.mannwhitneyu(\n",
        "    df_grouped_users[df_grouped_users['VARIANT_NAME'] == 'control']['REVENUE'], \n",
        "    df_grouped_users[df_grouped_users['VARIANT_NAME'] == 'variant']['REVENUE'],\n",
        "    alternative='greater'\n",
        "    \n",
        ")\n",
        "print(pvalue)"
      ]
    },
    {
      "attachments": {},
      "cell_type": "markdown",
      "metadata": {},
      "source": [
        "## A/B Testing on Boughts (Boolean)"
      ]
    },
    {
      "cell_type": "code",
      "execution_count": 210,
      "metadata": {},
      "outputs": [],
      "source": [
        "# df_grouped_users[['BOUGHT', 'VARIANT_NAME']].groupby('VARIANT_NAME').sum()\n",
        "df_contingency_pt1 = df_grouped_users.loc[(df_grouped_users['BOUGHT'] == 0), ['BOUGHT', 'VARIANT_NAME']].groupby('VARIANT_NAME').count()\n",
        "df_contingency_pt1.rename(columns={'BOUGHT': 'NO_BOUGHT'}, inplace=True)"
      ]
    },
    {
      "cell_type": "code",
      "execution_count": 211,
      "metadata": {},
      "outputs": [],
      "source": [
        "df_contingency_pt2 = df_grouped_users[['BOUGHT', 'VARIANT_NAME']].groupby('VARIANT_NAME').sum()"
      ]
    },
    {
      "cell_type": "code",
      "execution_count": 212,
      "metadata": {},
      "outputs": [
        {
          "data": {
            "text/html": [
              "<div>\n",
              "<style scoped>\n",
              "    .dataframe tbody tr th:only-of-type {\n",
              "        vertical-align: middle;\n",
              "    }\n",
              "\n",
              "    .dataframe tbody tr th {\n",
              "        vertical-align: top;\n",
              "    }\n",
              "\n",
              "    .dataframe thead th {\n",
              "        text-align: right;\n",
              "    }\n",
              "</style>\n",
              "<table border=\"1\" class=\"dataframe\">\n",
              "  <thead>\n",
              "    <tr style=\"text-align: right;\">\n",
              "      <th></th>\n",
              "      <th>NO_BOUGHT</th>\n",
              "      <th>BOUGHT</th>\n",
              "    </tr>\n",
              "    <tr>\n",
              "      <th>VARIANT_NAME</th>\n",
              "      <th></th>\n",
              "      <th></th>\n",
              "    </tr>\n",
              "  </thead>\n",
              "  <tbody>\n",
              "    <tr>\n",
              "      <th>control</th>\n",
              "      <td>2337</td>\n",
              "      <td>52</td>\n",
              "    </tr>\n",
              "    <tr>\n",
              "      <th>variant</th>\n",
              "      <td>2351</td>\n",
              "      <td>42</td>\n",
              "    </tr>\n",
              "  </tbody>\n",
              "</table>\n",
              "</div>"
            ],
            "text/plain": [
              "              NO_BOUGHT  BOUGHT\n",
              "VARIANT_NAME                   \n",
              "control            2337      52\n",
              "variant            2351      42"
            ]
          },
          "execution_count": 212,
          "metadata": {},
          "output_type": "execute_result"
        }
      ],
      "source": [
        "df_contingency = pd.concat([df_contingency_pt1, df_contingency_pt2], axis=1)\n",
        "df_contingency"
      ]
    },
    {
      "cell_type": "code",
      "execution_count": 213,
      "metadata": {},
      "outputs": [],
      "source": [
        "# df_contingency = df_grouped_users[['BOUGHTS', 'NO_BOUGHTS', 'VARIANT_NAME']].groupby('VARIANT_NAME').sum()\n",
        "# df_contingency"
      ]
    },
    {
      "cell_type": "code",
      "execution_count": 214,
      "metadata": {},
      "outputs": [
        {
          "data": {
            "text/plain": [
              "2389"
            ]
          },
          "execution_count": 214,
          "metadata": {},
          "output_type": "execute_result"
        }
      ],
      "source": [
        "df_contingency.loc['control', 'BOUGHT']\n",
        "df_contingency.loc['control'].sum()"
      ]
    },
    {
      "cell_type": "code",
      "execution_count": 215,
      "metadata": {},
      "outputs": [
        {
          "data": {
            "text/plain": [
              "4688"
            ]
          },
          "execution_count": 215,
          "metadata": {},
          "output_type": "execute_result"
        }
      ],
      "source": [
        "df_contingency['NO_BOUGHT'].sum()"
      ]
    },
    {
      "cell_type": "code",
      "execution_count": 216,
      "metadata": {},
      "outputs": [],
      "source": [
        "conversion = [0] * df_contingency['NO_BOUGHT'].sum()\n",
        "conversion.extend([1] * df_contingency['BOUGHT'].sum())\n",
        "conversion = pd.Series(conversion)"
      ]
    },
    {
      "cell_type": "code",
      "execution_count": 217,
      "metadata": {},
      "outputs": [],
      "source": [
        "observed_difference = df_contingency.loc['control', 'BOUGHT'] / df_contingency.loc['control'].sum() - df_contingency.loc['variant', 'BOUGHT'] / df_contingency.loc['variant'].sum()\n",
        "\n",
        "conversion = [0] * df_contingency['NO_BOUGHT'].sum()\n",
        "conversion.extend([1] * df_contingency['BOUGHT'].sum())\n",
        "conversion = pd.Series(conversion)"
      ]
    },
    {
      "cell_type": "code",
      "execution_count": 218,
      "metadata": {},
      "outputs": [
        {
          "data": {
            "text/plain": [
              "0.0042152384947236055"
            ]
          },
          "execution_count": 218,
          "metadata": {},
          "output_type": "execute_result"
        }
      ],
      "source": [
        "observed_difference"
      ]
    },
    {
      "attachments": {},
      "cell_type": "markdown",
      "metadata": {},
      "source": [
        "### Permutation test"
      ]
    },
    {
      "cell_type": "code",
      "execution_count": 292,
      "metadata": {},
      "outputs": [],
      "source": [
        "def permutation_test_proportions(x, nA, nB):\n",
        "    n = nA + nB\n",
        "    idx_B = set(random.sample(range(n), nB))\n",
        "    idx_A = set(range(n)) - idx_B\n",
        "    return x.loc[list(idx_B)].mean() - x.loc[list(idx_A)].mean()\n",
        "    # n = nA + nB\n",
        "    # idx_B = set(random.sample(range(n), nB))\n",
        "    # idx_A = set(range(n)) - idx_B\n",
        "    # # print(f'den_a: {x.loc[list(idx_A)].sum()}')\n",
        "    # # print(f'nA: {nA}')\n",
        "    # # print(f'den_b: {x.loc[list(idx_B)].sum()}')\n",
        "    # # print(f'nB: {nB}')\n",
        "    # # print(f'------------------------------------')\n",
        "    # return (x.loc[list(idx_A)].sum() / nA) - (x.loc[list(idx_B)].sum() / nB)\n"
      ]
    },
    {
      "cell_type": "code",
      "execution_count": 230,
      "metadata": {},
      "outputs": [
        {
          "data": {
            "text/plain": [
              "2393"
            ]
          },
          "execution_count": 230,
          "metadata": {},
          "output_type": "execute_result"
        }
      ],
      "source": [
        "df_contingency.loc['variant'].sum()"
      ]
    },
    {
      "cell_type": "code",
      "execution_count": 295,
      "metadata": {},
      "outputs": [
        {
          "name": "stdout",
          "output_type": "stream",
          "text": [
            "Observed difference: 0.4215%\n"
          ]
        },
        {
          "data": {
            "image/png": "[encoded data removed]",
            "text/plain": [
              "<Figure size 500x500 with 1 Axes>"
            ]
          },
          "metadata": {},
          "output_type": "display_data"
        }
      ],
      "source": [
        "#copia\n",
        "# VARIANT_NAME  BOUGHT\n",
        "# variant       0         2351\n",
        "# control       0         2337\n",
        "#               1           52\n",
        "# variant       1           42\n",
        "# random.seed(1)\n",
        "\n",
        "observed_difference = df_contingency.loc['control', 'BOUGHT'] / df_contingency.loc['control'].sum() - df_contingency.loc['variant', 'BOUGHT'] / df_contingency.loc['variant'].sum()\n",
        "obs_pct_diff = 100 * observed_difference\n",
        "print(f'Observed difference: {obs_pct_diff:.4f}%')\n",
        "conversion = [0] * df_contingency['NO_BOUGHT'].sum()\n",
        "conversion.extend([1] * df_contingency['BOUGHT'].sum())\n",
        "conversion = pd.Series(conversion)\n",
        "\n",
        "perm_diffs = [100 * permutation_test_proportions(conversion, df_contingency.loc['control'].sum(), df_contingency.loc['variant'].sum()) \n",
        "              for _ in range(2000)]\n",
        "\n",
        "fig, ax = plt.subplots(figsize=(5, 5))\n",
        "ax.hist(perm_diffs, bins=11, rwidth=0.9)\n",
        "ax.axvline(x=obs_pct_diff, color='black', lw=2)\n",
        "# ax.text(0.06, 200, 'Observed\\ndifference', bbox={'facecolor':'white'})\n",
        "ax.set_xlabel('Conversion rate (percent)')\n",
        "ax.set_ylabel('Frequency')\n",
        "\n",
        "# plt.tight_layout()\n",
        "plt.show()"
      ]
    },
    {
      "cell_type": "code",
      "execution_count": 294,
      "metadata": {},
      "outputs": [
        {
          "name": "stdout",
          "output_type": "stream",
          "text": [
            "0.231\n"
          ]
        }
      ],
      "source": [
        "perm_diffs = np.array(perm_diffs)\n",
        "print(np.mean([abs(diff) > obs_pct_diff for diff in perm_diffs]))"
      ]
    },
    {
      "attachments": {},
      "cell_type": "markdown",
      "metadata": {},
      "source": [
        "Other permutation test implementation"
      ]
    },
    {
      "cell_type": "code",
      "execution_count": 274,
      "metadata": {},
      "outputs": [],
      "source": [
        "def permutations_2(x1, x2, statistic_fun, n_iter=1000):\n",
        "    \n",
        "    n_x1 = len(x1)\n",
        "    n_x2 = len(x2)\n",
        "    pool_data = np.hstack((x1, x2))\n",
        "    \n",
        "    results_permutations = np.full(shape=n_iter, fill_value=np.nan)\n",
        "    \n",
        "    for i in range(n_iter):\n",
        "        np.random.shuffle(pool_data)\n",
        "        statistic = statistic_fun(pool_data[:n_x1], pool_data[n_x1:])\n",
        "        results_permutations[i] = statistic\n",
        "        \n",
        "    return results_permutations"
      ]
    },
    {
      "cell_type": "code",
      "execution_count": 269,
      "metadata": {},
      "outputs": [],
      "source": [
        "def dif_proporciones(x1, x2):\n",
        "    \n",
        "    # La media de un vector boleano es la proporción de Trues\n",
        "    estadistico = np.mean(x1) - np.mean(x2)\n",
        "    return(estadistico)"
      ]
    },
    {
      "cell_type": "code",
      "execution_count": 278,
      "metadata": {},
      "outputs": [
        {
          "name": "stdout",
          "output_type": "stream",
          "text": [
            "Diferencia observada: -0.0042152384947236055\n"
          ]
        }
      ],
      "source": [
        "dif_observada = dif_proporciones(\n",
        "                    x1 = df_grouped_users[df_grouped_users['VARIANT_NAME'] == 'variant']['BOUGHT'],\n",
        "                    x2 = df_grouped_users[df_grouped_users['VARIANT_NAME'] == 'control']['BOUGHT']\n",
        "                )\n",
        "print(f\"Diferencia observada: {dif_observada}\")"
      ]
    },
    {
      "cell_type": "code",
      "execution_count": 286,
      "metadata": {},
      "outputs": [],
      "source": [
        "dist_permut = permutations_2(\n",
        "                x1 = df_grouped_users[df_grouped_users['VARIANT_NAME'] == 'variant']['BOUGHT'],\n",
        "                x2 = df_grouped_users[df_grouped_users['VARIANT_NAME'] == 'control']['BOUGHT'],\n",
        "                statistic_fun = dif_proporciones,\n",
        "                n_iter   = 9000\n",
        "              )"
      ]
    },
    {
      "cell_type": "code",
      "execution_count": 287,
      "metadata": {},
      "outputs": [
        {
          "data": {
            "image/png": "[encoded data removed]",
            "text/plain": [
              "<Figure size 700x400 with 1 Axes>"
            ]
          },
          "metadata": {},
          "output_type": "display_data"
        }
      ],
      "source": [
        "# Distribución de permutaciones\n",
        "# ==============================================================================\n",
        "fig, ax = plt.subplots(ncols=1, nrows=1, figsize=(7,4))\n",
        "ax.hist(dist_permut, bins=30, density=True, color='#3182bd', alpha=0.5)\n",
        "ax.axvline(x=dist_permut.mean(), color='black', label='media distribución')\n",
        "ax.axvline(x=dif_observada, color='red', label='diferencia observada')\n",
        "ax.axvline(x=-dif_observada, color='red')\n",
        "\n",
        "ax.set_title('Distribución de permutaciones')\n",
        "ax.set_xlabel('diferencia de proporción entre grupos')\n",
        "ax.set_ylabel('densidad')\n",
        "ax.legend();"
      ]
    },
    {
      "cell_type": "code",
      "execution_count": 288,
      "metadata": {},
      "outputs": [
        {
          "name": "stdout",
          "output_type": "stream",
          "text": [
            "p-value sin corrección: 0.24666666666666667\n",
            "p-value con corrección: 0.2467777777777778\n"
          ]
        }
      ],
      "source": [
        "p_value = (sum(np.abs(dist_permut) > np.abs(dif_observada)))/len(dist_permut)\n",
        "p_value_correc = (sum(np.abs(dist_permut) > np.abs(dif_observada)) + 1)/len(dist_permut + 1)\n",
        "print(f\"p-value sin corrección: {p_value}\")\n",
        "print(f\"p-value con corrección: {p_value_correc}\")"
      ]
    },
    {
      "attachments": {},
      "cell_type": "markdown",
      "metadata": {},
      "source": [
        "Scipy's permutation test"
      ]
    },
    {
      "cell_type": "code",
      "execution_count": 258,
      "metadata": {},
      "outputs": [
        {
          "data": {
            "text/plain": [
              "42"
            ]
          },
          "execution_count": 258,
          "metadata": {},
          "output_type": "execute_result"
        }
      ],
      "source": [
        "df_grouped_users[df_grouped_users['VARIANT_NAME'] == 'variant']['BOUGHT'].sum()"
      ]
    },
    {
      "cell_type": "code",
      "execution_count": 290,
      "metadata": {},
      "outputs": [
        {
          "data": {
            "text/plain": [
              "PermutationTestResult(statistic=-0.0042152384947236055, pvalue=0.3497389178980113, null_distribution=array([ 2.47652696e-03,  4.98593900e-03,  2.47652696e-03, ...,\n",
              "       -8.69355769e-04, -3.28850874e-05, -3.28850874e-05]))"
            ]
          },
          "execution_count": 290,
          "metadata": {},
          "output_type": "execute_result"
        }
      ],
      "source": [
        "# def statistic(x, y, axis):\n",
        "#     prop_x = np.sum(x, axis=axis) / len(x.T)\n",
        "#     prop_y = np.sum(y, axis=axis) / len(y.T)\n",
        "#     diff_prop = prop_x - prop_y\n",
        "    \n",
        "#     return diff_prop\n",
        "\n",
        "def statistic(x, y, axis):\n",
        "    return np.mean(x, axis=axis) - np.mean(y, axis=axis)\n",
        "res = stats.permutation_test(\n",
        "    (df_grouped_users[df_grouped_users['VARIANT_NAME'] == 'variant']['BOUGHT'], df_grouped_users[df_grouped_users['VARIANT_NAME'] == 'control']['BOUGHT']),\n",
        "     statistic,\n",
        "     vectorized=True,\n",
        "     n_resamples=9000\n",
        "\n",
        "    )\n",
        "res"
      ]
    },
    {
      "cell_type": "code",
      "execution_count": 291,
      "metadata": {},
      "outputs": [
        {
          "data": {
            "image/png": "[encoded data removed]",
            "text/plain": [
              "<Figure size 640x480 with 1 Axes>"
            ]
          },
          "metadata": {},
          "output_type": "display_data"
        }
      ],
      "source": [
        "plt.hist(res.null_distribution, bins =30)\n",
        "plt.show()"
      ]
    },
    {
      "attachments": {},
      "cell_type": "markdown",
      "metadata": {},
      "source": [
        "### z-test"
      ]
    },
    {
      "cell_type": "code",
      "execution_count": 241,
      "metadata": {},
      "outputs": [],
      "source": [
        "n_boughts = df_contingency['BOUGHT'].values\n",
        "n_rows = np.array(df_contingency.sum(axis=1)['control'], df_contingency.sum(axis=1)['variant'])"
      ]
    },
    {
      "cell_type": "code",
      "execution_count": 242,
      "metadata": {},
      "outputs": [],
      "source": [
        "z_score, p_value = proportions_ztest(count=n_boughts, nobs=n_rows, alternative='two-sided')"
      ]
    },
    {
      "cell_type": "code",
      "execution_count": 243,
      "metadata": {},
      "outputs": [
        {
          "data": {
            "text/plain": [
              "(1.0417192814567282, 0.2975418468836222)"
            ]
          },
          "execution_count": 243,
          "metadata": {},
          "output_type": "execute_result"
        }
      ],
      "source": [
        "z_score, p_value "
      ]
    },
    {
      "attachments": {},
      "cell_type": "markdown",
      "metadata": {},
      "source": [
        "### Chi-Square"
      ]
    },
    {
      "cell_type": "code",
      "execution_count": 244,
      "metadata": {},
      "outputs": [
        {
          "data": {
            "text/html": [
              "<div>\n",
              "<style scoped>\n",
              "    .dataframe tbody tr th:only-of-type {\n",
              "        vertical-align: middle;\n",
              "    }\n",
              "\n",
              "    .dataframe tbody tr th {\n",
              "        vertical-align: top;\n",
              "    }\n",
              "\n",
              "    .dataframe thead th {\n",
              "        text-align: right;\n",
              "    }\n",
              "</style>\n",
              "<table border=\"1\" class=\"dataframe\">\n",
              "  <thead>\n",
              "    <tr style=\"text-align: right;\">\n",
              "      <th></th>\n",
              "      <th>NO_BOUGHT</th>\n",
              "      <th>BOUGHT</th>\n",
              "    </tr>\n",
              "    <tr>\n",
              "      <th>VARIANT_NAME</th>\n",
              "      <th></th>\n",
              "      <th></th>\n",
              "    </tr>\n",
              "  </thead>\n",
              "  <tbody>\n",
              "    <tr>\n",
              "      <th>control</th>\n",
              "      <td>2337</td>\n",
              "      <td>52</td>\n",
              "    </tr>\n",
              "    <tr>\n",
              "      <th>variant</th>\n",
              "      <td>2351</td>\n",
              "      <td>42</td>\n",
              "    </tr>\n",
              "  </tbody>\n",
              "</table>\n",
              "</div>"
            ],
            "text/plain": [
              "              NO_BOUGHT  BOUGHT\n",
              "VARIANT_NAME                   \n",
              "control            2337      52\n",
              "variant            2351      42"
            ]
          },
          "execution_count": 244,
          "metadata": {},
          "output_type": "execute_result"
        }
      ],
      "source": [
        "df_contingency"
      ]
    },
    {
      "cell_type": "code",
      "execution_count": 67,
      "metadata": {},
      "outputs": [
        {
          "data": {
            "text/plain": [
              "47.5"
            ]
          },
          "execution_count": 67,
          "metadata": {},
          "output_type": "execute_result"
        }
      ],
      "source": [
        "df_contingency.mean()['BOUGHT']"
      ]
    },
    {
      "cell_type": "code",
      "execution_count": 245,
      "metadata": {},
      "outputs": [
        {
          "data": {
            "text/plain": [
              "94"
            ]
          },
          "execution_count": 245,
          "metadata": {},
          "output_type": "execute_result"
        }
      ],
      "source": [
        "df_contingency.sum()['BOUGHT']"
      ]
    },
    {
      "cell_type": "code",
      "execution_count": 246,
      "metadata": {},
      "outputs": [
        {
          "data": {
            "text/plain": [
              "2389"
            ]
          },
          "execution_count": 246,
          "metadata": {},
          "output_type": "execute_result"
        }
      ],
      "source": [
        "\n",
        "df_contingency.sum(axis=1)['control']"
      ]
    },
    {
      "cell_type": "code",
      "execution_count": 248,
      "metadata": {},
      "outputs": [
        {
          "data": {
            "text/html": [
              "<div>\n",
              "<style scoped>\n",
              "    .dataframe tbody tr th:only-of-type {\n",
              "        vertical-align: middle;\n",
              "    }\n",
              "\n",
              "    .dataframe tbody tr th {\n",
              "        vertical-align: top;\n",
              "    }\n",
              "\n",
              "    .dataframe thead th {\n",
              "        text-align: right;\n",
              "    }\n",
              "</style>\n",
              "<table border=\"1\" class=\"dataframe\">\n",
              "  <thead>\n",
              "    <tr style=\"text-align: right;\">\n",
              "      <th>VARIANT_NAME</th>\n",
              "      <th>control</th>\n",
              "      <th>variant</th>\n",
              "    </tr>\n",
              "  </thead>\n",
              "  <tbody>\n",
              "    <tr>\n",
              "      <th>NO_BOUGHT</th>\n",
              "      <td>2337</td>\n",
              "      <td>2351</td>\n",
              "    </tr>\n",
              "    <tr>\n",
              "      <th>BOUGHT</th>\n",
              "      <td>52</td>\n",
              "      <td>42</td>\n",
              "    </tr>\n",
              "  </tbody>\n",
              "</table>\n",
              "</div>"
            ],
            "text/plain": [
              "VARIANT_NAME  control  variant\n",
              "NO_BOUGHT        2337     2351\n",
              "BOUGHT             52       42"
            ]
          },
          "execution_count": 248,
          "metadata": {},
          "output_type": "execute_result"
        }
      ],
      "source": [
        "df_contingency.T"
      ]
    },
    {
      "cell_type": "code",
      "execution_count": 249,
      "metadata": {},
      "outputs": [
        {
          "data": {
            "text/plain": [
              "[array([46.96068591, 47.03931409]), array([2342.03931409, 2345.96068591])]"
            ]
          },
          "execution_count": 249,
          "metadata": {},
          "output_type": "execute_result"
        }
      ],
      "source": [
        "ratio_boughts = df_contingency.sum()['BOUGHT'] / df_contingency.sum().sum()\n",
        "expected_boughts_control = ratio_boughts * df_contingency.sum(axis=1)['control']\n",
        "expected_boughts_variant = ratio_boughts * df_contingency.sum(axis=1)['variant']\n",
        "expected_noboughts_control = df_contingency.sum(axis=1)['control'] - expected_boughts_control\n",
        "expected_noboughts_variant = df_contingency.sum(axis=1)['variant'] - expected_boughts_variant\n",
        "expected_boughts = np.array([expected_boughts_control, expected_boughts_variant])\n",
        "expected_noboughts = np.array([expected_noboughts_control, expected_noboughts_variant])\n",
        "expected = [expected_boughts, expected_noboughts]\n",
        "expected"
      ]
    },
    {
      "cell_type": "code",
      "execution_count": 250,
      "metadata": {},
      "outputs": [
        {
          "name": "stdout",
          "output_type": "stream",
          "text": [
            "Observed chi2: 0.8944\n",
            "p-value: 0.3443\n",
            "df: 1\n",
            "expected: [[2342.03931409   46.96068591]\n",
            " [2345.96068591   47.03931409]]\n"
          ]
        }
      ],
      "source": [
        "chisq, pvalue, df, expected = stats.chi2_contingency(df_contingency)\n",
        "print(f'Observed chi2: {chisq:.4f}')\n",
        "print(f'p-value: {pvalue:.4f}')\n",
        "print(f'df: {df}')\n",
        "print(f'expected: {expected}')"
      ]
    },
    {
      "cell_type": "code",
      "execution_count": 251,
      "metadata": {},
      "outputs": [
        {
          "name": "stdout",
          "output_type": "stream",
          "text": [
            "Observed chi2: 0.8944\n",
            "p-value: 0.3443\n",
            "df: 1\n",
            "expected: [[2342.03931409 2345.96068591]\n",
            " [  46.96068591   47.03931409]]\n"
          ]
        }
      ],
      "source": [
        "chisq, pvalue, df, expected = stats.chi2_contingency(df_contingency.T)\n",
        "print(f'Observed chi2: {chisq:.4f}')\n",
        "print(f'p-value: {pvalue:.4f}')\n",
        "print(f'df: {df}')\n",
        "print(f'expected: {expected}')"
      ]
    },
    {
      "cell_type": "code",
      "execution_count": 259,
      "metadata": {},
      "outputs": [
        {
          "data": {
            "text/html": [
              "<div>\n",
              "<style scoped>\n",
              "    .dataframe tbody tr th:only-of-type {\n",
              "        vertical-align: middle;\n",
              "    }\n",
              "\n",
              "    .dataframe tbody tr th {\n",
              "        vertical-align: top;\n",
              "    }\n",
              "\n",
              "    .dataframe thead th {\n",
              "        text-align: right;\n",
              "    }\n",
              "</style>\n",
              "<table border=\"1\" class=\"dataframe\">\n",
              "  <thead>\n",
              "    <tr style=\"text-align: right;\">\n",
              "      <th></th>\n",
              "      <th>NO_BOUGHT</th>\n",
              "      <th>BOUGHT</th>\n",
              "    </tr>\n",
              "    <tr>\n",
              "      <th>VARIANT_NAME</th>\n",
              "      <th></th>\n",
              "      <th></th>\n",
              "    </tr>\n",
              "  </thead>\n",
              "  <tbody>\n",
              "    <tr>\n",
              "      <th>control</th>\n",
              "      <td>2337</td>\n",
              "      <td>52</td>\n",
              "    </tr>\n",
              "    <tr>\n",
              "      <th>variant</th>\n",
              "      <td>2351</td>\n",
              "      <td>42</td>\n",
              "    </tr>\n",
              "  </tbody>\n",
              "</table>\n",
              "</div>"
            ],
            "text/plain": [
              "              NO_BOUGHT  BOUGHT\n",
              "VARIANT_NAME                   \n",
              "control            2337      52\n",
              "variant            2351      42"
            ]
          },
          "execution_count": 259,
          "metadata": {},
          "output_type": "execute_result"
        }
      ],
      "source": [
        "df_contingency"
      ]
    },
    {
      "cell_type": "code",
      "execution_count": 260,
      "metadata": {},
      "outputs": [
        {
          "name": "stdout",
          "output_type": "stream",
          "text": [
            "Observed chi2: 0.8944\n",
            "p-value: 0.3443\n",
            "df: 1\n",
            "expected: [[  46.96068591 2342.03931409]\n",
            " [  47.03931409 2345.96068591]]\n"
          ]
        }
      ],
      "source": [
        "boughts = np.array([[52, 2337], [42, 2351]])\n",
        "chisq, pvalue, df, expected = stats.chi2_contingency(boughts)\n",
        "print(f'Observed chi2: {chisq:.4f}')\n",
        "print(f'p-value: {pvalue:.4f}')\n",
        "print(f'df: {df}')\n",
        "print(f'expected: {expected}')"
      ]
    },
    {
      "cell_type": "code",
      "execution_count": 253,
      "metadata": {},
      "outputs": [
        {
          "data": {
            "text/plain": [
              "array([[  52, 2972],\n",
              "       [  43, 3001]])"
            ]
          },
          "execution_count": 253,
          "metadata": {},
          "output_type": "execute_result"
        }
      ],
      "source": [
        "boughts"
      ]
    },
    {
      "attachments": {},
      "cell_type": "markdown",
      "metadata": {},
      "source": [
        "### Fisher's Exact Test"
      ]
    },
    {
      "cell_type": "code",
      "execution_count": 263,
      "metadata": {},
      "outputs": [],
      "source": [
        "# Tabla de contingencia\n",
        "table = np.array([[52, 2337], [42, 2351]])\n",
        "\n",
        "# Aplicar el Test Exacto de Fisher\n",
        "odds_ratio, p_value = stats.fisher_exact(df_contingency)"
      ]
    },
    {
      "cell_type": "code",
      "execution_count": 264,
      "metadata": {},
      "outputs": [
        {
          "data": {
            "text/plain": [
              "0.29973297470952087"
            ]
          },
          "execution_count": 264,
          "metadata": {},
          "output_type": "execute_result"
        }
      ],
      "source": [
        "p_value"
      ]
    },
    {
      "cell_type": "code",
      "execution_count": 265,
      "metadata": {},
      "outputs": [
        {
          "data": {
            "text/plain": [
              "0.8028825704282957"
            ]
          },
          "execution_count": 265,
          "metadata": {},
          "output_type": "execute_result"
        }
      ],
      "source": [
        "odds_ratio"
      ]
    },
    {
      "attachments": {},
      "cell_type": "markdown",
      "metadata": {},
      "source": [
        "## A/B Testing on Boughts (Mean)"
      ]
    },
    {
      "cell_type": "code",
      "execution_count": 297,
      "metadata": {},
      "outputs": [
        {
          "name": "stdout",
          "output_type": "stream",
          "text": [
            "0.8665213346383669 0.3519671638737799\n"
          ]
        }
      ],
      "source": [
        "stat, p = stats.levene(\n",
        "    df_grouped_users[df_grouped_users['VARIANT_NAME'] == 'control']['TOTAL_BOUGHTS'],\n",
        "    df_grouped_users[df_grouped_users['VARIANT_NAME'] == 'variant']['TOTAL_BOUGHTS']\n",
        ")\n",
        "print(stat, p)"
      ]
    },
    {
      "cell_type": "code",
      "execution_count": 298,
      "metadata": {},
      "outputs": [
        {
          "name": "stdout",
          "output_type": "stream",
          "text": [
            "-0.0021244116324349825\n"
          ]
        },
        {
          "data": {
            "image/png": "[encoded data removed]",
            "text/plain": [
              "<Figure size 500x500 with 1 Axes>"
            ]
          },
          "metadata": {},
          "output_type": "display_data"
        }
      ],
      "source": [
        "def permutation_test_mean_difference(x, nA, nB):\n",
        "    n = nA + nB\n",
        "    idx_B = set(random.sample(range(n), nB))\n",
        "    idx_A = set(range(n)) - idx_B\n",
        "    return x.loc[list(idx_B)].mean() - x.loc[list(idx_A)].mean()\n",
        "    \n",
        "nA = df_grouped_users[df_grouped_users['VARIANT_NAME'] == 'control'].shape[0]\n",
        "nB = df_grouped_users[df_grouped_users['VARIANT_NAME'] == 'variant'].shape[0]\n",
        "# nA = 5\n",
        "# nB = 6\n",
        "print(permutation_test_mean_difference(df_grouped_users['TOTAL_BOUGHTS'], nA, nB))\n",
        "# random.seed(1)\n",
        "perm_diffs = [permutation_test_mean_difference(df_grouped_users['TOTAL_BOUGHTS'], nA, nB) for _ in range(1000)]\n",
        "\n",
        "fig, ax = plt.subplots(figsize=(5, 5))\n",
        "ax.hist(perm_diffs, bins=11, rwidth=0.9)\n",
        "ax.axvline(x = mean_variant - mean_control, color='black', lw=2)\n",
        "# ax.text(50, 190, 'Observed\\ndifference', bbox={'facecolor':'white'})\n",
        "ax.text(-0.07, 150, 'Observed\\ndifference', bbox={'facecolor':'white'})\n",
        "ax.set_xlabel('TOTAL_BOUGHTS differences')\n",
        "ax.set_ylabel('Frequency')\n",
        "\n",
        "# plt.tight_layout()\n",
        "plt.show()\n"
      ]
    },
    {
      "cell_type": "code",
      "execution_count": 299,
      "metadata": {},
      "outputs": [
        {
          "name": "stdout",
          "output_type": "stream",
          "text": [
            "0.0\n",
            "1.0\n",
            "1.0\n"
          ]
        }
      ],
      "source": [
        "# What percentage of the mean differences of random permutations are below the observed difference?\n",
        "perm_diffs = np.array(perm_diffs)\n",
        "less = np.mean(perm_diffs < mean_variant - mean_control)\n",
        "more = np.mean(perm_diffs > mean_variant - mean_control)\n",
        "print(less)\n",
        "print(more)\n",
        "print(less + more)"
      ]
    },
    {
      "cell_type": "code",
      "execution_count": null,
      "metadata": {},
      "outputs": [],
      "source": []
    }
  ],
  "metadata": {
    "colab": {
      "provenance": []
    },
    "kernelspec": {
      "display_name": "Python 3",
      "name": "python3"
    },
    "language_info": {
      "codemirror_mode": {
        "name": "ipython",
        "version": 3
      },
      "file_extension": ".py",
      "mimetype": "text/x-python",
      "name": "python",
      "nbconvert_exporter": "python",
      "pygments_lexer": "ipython3",
      "version": "3.8.10"
    }
  },
  "nbformat": 4,
  "nbformat_minor": 0
}
